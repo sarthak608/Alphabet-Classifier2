{
 "cells": [
  {
   "cell_type": "markdown",
   "metadata": {},
   "source": [
    "# Character Recognition using Baesian Classifier and Naive Bayes Classifier\n",
    "\n",
    "\n",
    "Here I have given with hand written alphabets(Dataset) and I have to predict the alphabets. I am going to use the Baesian Classifier and Naive Bayes Classifier for the purpose. \n",
    "\n",
    "The need for Naive Bayes Classifier is that it is a probabilistic classifier. It is a classifier that can be used to estimate the probability of a sample belonging to a particular class. But as there are large number of features in the data, it is not possible to use the features to calculate the probability. So, comes the need for Naive Bayes Classifier. \n",
    "\n",
    "Naive Bayes classifier are surely an approximation of the true probaility, but how good it turns out we will know only after creating the model. Here I will implement everything first using the tools and libraries provided by the python. Later I will do everything from scratch.\n",
    "\n",
    "I have added necessary markdown and comments to help you understand the code, we have also added dockstrings where ever it felt necessary. I also have extensively used plots and heatmaps to have a better understanding of the data and the results.\n",
    "\n",
    "** code is well optimised and model from scratch will be almsot as fast as the model from the library. I have done as much vectorised operations as possible. Also to see the plots and interactive figures properly please view the notebook in jupyter enviroment and not as pdf etc.**"
   ]
  },
  {
   "cell_type": "markdown",
   "metadata": {},
   "source": [
    "## The notebook include the following\n",
    "\n",
    "### Assignment requirements\n",
    "\n",
    "- Data Preprocessing\n",
    "- Data Visualization\n",
    "- Train Test Split using Scikit Learn\n",
    "- Data Analysis\n",
    "- Creating and Training the Model using Scikit-Learn\n",
    "- Testing the Model using Scikit-Learn\n",
    "- Train Test Split from scratch\n",
    "\n",
    "### Extra credit\n",
    "\n",
    "- Creating and Training a Model from scratch\n",
    "- Testing the Model from scratch\n",
    "- Finding accuracy of the Model\n",
    "- Creating a confusion matrix\n",
    "- Visualizing the confusion matrix\n",
    "- Creating a Classification Report\n",
    "\n",
    "### Experimental\n",
    "This part of the notebook may take some time to run, around 15 mins, because multiple models are being trained and tested in this part. \n",
    "- Trying to improve the model\n",
    "- Tuning the Hyperparameters\n",
    "- Finding relation preprocessing threshold and accuracy\n",
    "- Visualizing threshold vs accuracy"
   ]
  },
  {
   "cell_type": "code",
   "execution_count": 1,
   "metadata": {},
   "outputs": [],
   "source": [
    "import numpy as np\n",
    "import pandas as pd\n",
    "import matplotlib.pyplot as plt\n",
    "import seaborn as sns\n",
    "from sklearn.model_selection import train_test_split"
   ]
  },
  {
   "cell_type": "markdown",
   "metadata": {},
   "source": [
    "## Lets see how the data look like\n",
    "First we will import the dataset as a pandas dataframe. This helps us to understand the dataset better and manipulate it better. After that we will identify the features and labels and mark the columns based on the features and labels.\n",
    "We will also like to know the number of images in the dataset."
   ]
  },
  {
   "cell_type": "code",
   "execution_count": 2,
   "metadata": {},
   "outputs": [
    {
     "data": {
      "text/html": [
       "<div>\n",
       "<style scoped>\n",
       "    .dataframe tbody tr th:only-of-type {\n",
       "        vertical-align: middle;\n",
       "    }\n",
       "\n",
       "    .dataframe tbody tr th {\n",
       "        vertical-align: top;\n",
       "    }\n",
       "\n",
       "    .dataframe thead th {\n",
       "        text-align: right;\n",
       "    }\n",
       "</style>\n",
       "<table border=\"1\" class=\"dataframe\">\n",
       "  <thead>\n",
       "    <tr style=\"text-align: right;\">\n",
       "      <th></th>\n",
       "      <th>0</th>\n",
       "      <th>0.1</th>\n",
       "      <th>0.2</th>\n",
       "      <th>0.3</th>\n",
       "      <th>0.4</th>\n",
       "      <th>0.5</th>\n",
       "      <th>0.6</th>\n",
       "      <th>0.7</th>\n",
       "      <th>0.8</th>\n",
       "      <th>0.9</th>\n",
       "      <th>...</th>\n",
       "      <th>0.639</th>\n",
       "      <th>0.640</th>\n",
       "      <th>0.641</th>\n",
       "      <th>0.642</th>\n",
       "      <th>0.643</th>\n",
       "      <th>0.644</th>\n",
       "      <th>0.645</th>\n",
       "      <th>0.646</th>\n",
       "      <th>0.647</th>\n",
       "      <th>0.648</th>\n",
       "    </tr>\n",
       "  </thead>\n",
       "  <tbody>\n",
       "    <tr>\n",
       "      <th>0</th>\n",
       "      <td>0</td>\n",
       "      <td>0</td>\n",
       "      <td>0</td>\n",
       "      <td>0</td>\n",
       "      <td>0</td>\n",
       "      <td>0</td>\n",
       "      <td>0</td>\n",
       "      <td>0</td>\n",
       "      <td>0</td>\n",
       "      <td>0</td>\n",
       "      <td>...</td>\n",
       "      <td>0</td>\n",
       "      <td>0</td>\n",
       "      <td>0</td>\n",
       "      <td>0</td>\n",
       "      <td>0</td>\n",
       "      <td>0</td>\n",
       "      <td>0</td>\n",
       "      <td>0</td>\n",
       "      <td>0</td>\n",
       "      <td>0</td>\n",
       "    </tr>\n",
       "    <tr>\n",
       "      <th>1</th>\n",
       "      <td>0</td>\n",
       "      <td>0</td>\n",
       "      <td>0</td>\n",
       "      <td>0</td>\n",
       "      <td>0</td>\n",
       "      <td>0</td>\n",
       "      <td>0</td>\n",
       "      <td>0</td>\n",
       "      <td>0</td>\n",
       "      <td>0</td>\n",
       "      <td>...</td>\n",
       "      <td>0</td>\n",
       "      <td>0</td>\n",
       "      <td>0</td>\n",
       "      <td>0</td>\n",
       "      <td>0</td>\n",
       "      <td>0</td>\n",
       "      <td>0</td>\n",
       "      <td>0</td>\n",
       "      <td>0</td>\n",
       "      <td>0</td>\n",
       "    </tr>\n",
       "    <tr>\n",
       "      <th>2</th>\n",
       "      <td>0</td>\n",
       "      <td>0</td>\n",
       "      <td>0</td>\n",
       "      <td>0</td>\n",
       "      <td>0</td>\n",
       "      <td>0</td>\n",
       "      <td>0</td>\n",
       "      <td>0</td>\n",
       "      <td>0</td>\n",
       "      <td>0</td>\n",
       "      <td>...</td>\n",
       "      <td>0</td>\n",
       "      <td>0</td>\n",
       "      <td>0</td>\n",
       "      <td>0</td>\n",
       "      <td>0</td>\n",
       "      <td>0</td>\n",
       "      <td>0</td>\n",
       "      <td>0</td>\n",
       "      <td>0</td>\n",
       "      <td>0</td>\n",
       "    </tr>\n",
       "    <tr>\n",
       "      <th>3</th>\n",
       "      <td>0</td>\n",
       "      <td>0</td>\n",
       "      <td>0</td>\n",
       "      <td>0</td>\n",
       "      <td>0</td>\n",
       "      <td>0</td>\n",
       "      <td>0</td>\n",
       "      <td>0</td>\n",
       "      <td>0</td>\n",
       "      <td>0</td>\n",
       "      <td>...</td>\n",
       "      <td>0</td>\n",
       "      <td>0</td>\n",
       "      <td>0</td>\n",
       "      <td>0</td>\n",
       "      <td>0</td>\n",
       "      <td>0</td>\n",
       "      <td>0</td>\n",
       "      <td>0</td>\n",
       "      <td>0</td>\n",
       "      <td>0</td>\n",
       "    </tr>\n",
       "    <tr>\n",
       "      <th>4</th>\n",
       "      <td>0</td>\n",
       "      <td>0</td>\n",
       "      <td>0</td>\n",
       "      <td>0</td>\n",
       "      <td>0</td>\n",
       "      <td>0</td>\n",
       "      <td>0</td>\n",
       "      <td>0</td>\n",
       "      <td>0</td>\n",
       "      <td>0</td>\n",
       "      <td>...</td>\n",
       "      <td>0</td>\n",
       "      <td>0</td>\n",
       "      <td>0</td>\n",
       "      <td>0</td>\n",
       "      <td>0</td>\n",
       "      <td>0</td>\n",
       "      <td>0</td>\n",
       "      <td>0</td>\n",
       "      <td>0</td>\n",
       "      <td>0</td>\n",
       "    </tr>\n",
       "  </tbody>\n",
       "</table>\n",
       "<p>5 rows × 785 columns</p>\n",
       "</div>"
      ],
      "text/plain": [
       "   0  0.1  0.2  0.3  0.4  0.5  0.6  0.7  0.8  0.9  ...  0.639  0.640  0.641  \\\n",
       "0  0    0    0    0    0    0    0    0    0    0  ...      0      0      0   \n",
       "1  0    0    0    0    0    0    0    0    0    0  ...      0      0      0   \n",
       "2  0    0    0    0    0    0    0    0    0    0  ...      0      0      0   \n",
       "3  0    0    0    0    0    0    0    0    0    0  ...      0      0      0   \n",
       "4  0    0    0    0    0    0    0    0    0    0  ...      0      0      0   \n",
       "\n",
       "   0.642  0.643  0.644  0.645  0.646  0.647  0.648  \n",
       "0      0      0      0      0      0      0      0  \n",
       "1      0      0      0      0      0      0      0  \n",
       "2      0      0      0      0      0      0      0  \n",
       "3      0      0      0      0      0      0      0  \n",
       "4      0      0      0      0      0      0      0  \n",
       "\n",
       "[5 rows x 785 columns]"
      ]
     },
     "execution_count": 2,
     "metadata": {},
     "output_type": "execute_result"
    }
   ],
   "source": [
    "# import the images as panda dataframe\n",
    "df = pd.read_csv('A_Z Handwritten Data.csv')\n",
    "df.head()"
   ]
  },
  {
   "cell_type": "code",
   "execution_count": 3,
   "metadata": {},
   "outputs": [
    {
     "data": {
      "text/plain": [
       "784"
      ]
     },
     "execution_count": 3,
     "metadata": {},
     "output_type": "execute_result"
    }
   ],
   "source": [
    "# column 0 is the class label as they range from 0 to 25\n",
    "\n",
    "# lest find number of pixels in each image\n",
    "nFeatures = df.iloc[0, 1:].shape[0]\n",
    "nFeatures"
   ]
  },
  {
   "cell_type": "code",
   "execution_count": 4,
   "metadata": {},
   "outputs": [
    {
     "data": {
      "text/html": [
       "<div>\n",
       "<style scoped>\n",
       "    .dataframe tbody tr th:only-of-type {\n",
       "        vertical-align: middle;\n",
       "    }\n",
       "\n",
       "    .dataframe tbody tr th {\n",
       "        vertical-align: top;\n",
       "    }\n",
       "\n",
       "    .dataframe thead th {\n",
       "        text-align: right;\n",
       "    }\n",
       "</style>\n",
       "<table border=\"1\" class=\"dataframe\">\n",
       "  <thead>\n",
       "    <tr style=\"text-align: right;\">\n",
       "      <th></th>\n",
       "      <th>label</th>\n",
       "      <th>pixel0</th>\n",
       "      <th>pixel1</th>\n",
       "      <th>pixel2</th>\n",
       "      <th>pixel3</th>\n",
       "      <th>pixel4</th>\n",
       "      <th>pixel5</th>\n",
       "      <th>pixel6</th>\n",
       "      <th>pixel7</th>\n",
       "      <th>pixel8</th>\n",
       "      <th>...</th>\n",
       "      <th>pixel774</th>\n",
       "      <th>pixel775</th>\n",
       "      <th>pixel776</th>\n",
       "      <th>pixel777</th>\n",
       "      <th>pixel778</th>\n",
       "      <th>pixel779</th>\n",
       "      <th>pixel780</th>\n",
       "      <th>pixel781</th>\n",
       "      <th>pixel782</th>\n",
       "      <th>pixel783</th>\n",
       "    </tr>\n",
       "  </thead>\n",
       "  <tbody>\n",
       "    <tr>\n",
       "      <th>0</th>\n",
       "      <td>0</td>\n",
       "      <td>0</td>\n",
       "      <td>0</td>\n",
       "      <td>0</td>\n",
       "      <td>0</td>\n",
       "      <td>0</td>\n",
       "      <td>0</td>\n",
       "      <td>0</td>\n",
       "      <td>0</td>\n",
       "      <td>0</td>\n",
       "      <td>...</td>\n",
       "      <td>0</td>\n",
       "      <td>0</td>\n",
       "      <td>0</td>\n",
       "      <td>0</td>\n",
       "      <td>0</td>\n",
       "      <td>0</td>\n",
       "      <td>0</td>\n",
       "      <td>0</td>\n",
       "      <td>0</td>\n",
       "      <td>0</td>\n",
       "    </tr>\n",
       "    <tr>\n",
       "      <th>1</th>\n",
       "      <td>0</td>\n",
       "      <td>0</td>\n",
       "      <td>0</td>\n",
       "      <td>0</td>\n",
       "      <td>0</td>\n",
       "      <td>0</td>\n",
       "      <td>0</td>\n",
       "      <td>0</td>\n",
       "      <td>0</td>\n",
       "      <td>0</td>\n",
       "      <td>...</td>\n",
       "      <td>0</td>\n",
       "      <td>0</td>\n",
       "      <td>0</td>\n",
       "      <td>0</td>\n",
       "      <td>0</td>\n",
       "      <td>0</td>\n",
       "      <td>0</td>\n",
       "      <td>0</td>\n",
       "      <td>0</td>\n",
       "      <td>0</td>\n",
       "    </tr>\n",
       "    <tr>\n",
       "      <th>2</th>\n",
       "      <td>0</td>\n",
       "      <td>0</td>\n",
       "      <td>0</td>\n",
       "      <td>0</td>\n",
       "      <td>0</td>\n",
       "      <td>0</td>\n",
       "      <td>0</td>\n",
       "      <td>0</td>\n",
       "      <td>0</td>\n",
       "      <td>0</td>\n",
       "      <td>...</td>\n",
       "      <td>0</td>\n",
       "      <td>0</td>\n",
       "      <td>0</td>\n",
       "      <td>0</td>\n",
       "      <td>0</td>\n",
       "      <td>0</td>\n",
       "      <td>0</td>\n",
       "      <td>0</td>\n",
       "      <td>0</td>\n",
       "      <td>0</td>\n",
       "    </tr>\n",
       "    <tr>\n",
       "      <th>3</th>\n",
       "      <td>0</td>\n",
       "      <td>0</td>\n",
       "      <td>0</td>\n",
       "      <td>0</td>\n",
       "      <td>0</td>\n",
       "      <td>0</td>\n",
       "      <td>0</td>\n",
       "      <td>0</td>\n",
       "      <td>0</td>\n",
       "      <td>0</td>\n",
       "      <td>...</td>\n",
       "      <td>0</td>\n",
       "      <td>0</td>\n",
       "      <td>0</td>\n",
       "      <td>0</td>\n",
       "      <td>0</td>\n",
       "      <td>0</td>\n",
       "      <td>0</td>\n",
       "      <td>0</td>\n",
       "      <td>0</td>\n",
       "      <td>0</td>\n",
       "    </tr>\n",
       "    <tr>\n",
       "      <th>4</th>\n",
       "      <td>0</td>\n",
       "      <td>0</td>\n",
       "      <td>0</td>\n",
       "      <td>0</td>\n",
       "      <td>0</td>\n",
       "      <td>0</td>\n",
       "      <td>0</td>\n",
       "      <td>0</td>\n",
       "      <td>0</td>\n",
       "      <td>0</td>\n",
       "      <td>...</td>\n",
       "      <td>0</td>\n",
       "      <td>0</td>\n",
       "      <td>0</td>\n",
       "      <td>0</td>\n",
       "      <td>0</td>\n",
       "      <td>0</td>\n",
       "      <td>0</td>\n",
       "      <td>0</td>\n",
       "      <td>0</td>\n",
       "      <td>0</td>\n",
       "    </tr>\n",
       "  </tbody>\n",
       "</table>\n",
       "<p>5 rows × 785 columns</p>\n",
       "</div>"
      ],
      "text/plain": [
       "   label  pixel0  pixel1  pixel2  pixel3  pixel4  pixel5  pixel6  pixel7  \\\n",
       "0      0       0       0       0       0       0       0       0       0   \n",
       "1      0       0       0       0       0       0       0       0       0   \n",
       "2      0       0       0       0       0       0       0       0       0   \n",
       "3      0       0       0       0       0       0       0       0       0   \n",
       "4      0       0       0       0       0       0       0       0       0   \n",
       "\n",
       "   pixel8  ...  pixel774  pixel775  pixel776  pixel777  pixel778  pixel779  \\\n",
       "0       0  ...         0         0         0         0         0         0   \n",
       "1       0  ...         0         0         0         0         0         0   \n",
       "2       0  ...         0         0         0         0         0         0   \n",
       "3       0  ...         0         0         0         0         0         0   \n",
       "4       0  ...         0         0         0         0         0         0   \n",
       "\n",
       "   pixel780  pixel781  pixel782  pixel783  \n",
       "0         0         0         0         0  \n",
       "1         0         0         0         0  \n",
       "2         0         0         0         0  \n",
       "3         0         0         0         0  \n",
       "4         0         0         0         0  \n",
       "\n",
       "[5 rows x 785 columns]"
      ]
     },
     "execution_count": 4,
     "metadata": {},
     "output_type": "execute_result"
    }
   ],
   "source": [
    "# lets label the coluns properly in the dataframe\n",
    "pixelsNumbers = ['pixel' + str(i) for i in range(nFeatures)]\n",
    "columns = ['label'] + pixelsNumbers\n",
    "df.columns = columns\n",
    "df.head() "
   ]
  },
  {
   "cell_type": "code",
   "execution_count": 5,
   "metadata": {},
   "outputs": [],
   "source": [
    "# store a copy of the dataframe if needed later\n",
    "df_copy = df.copy()"
   ]
  },
  {
   "cell_type": "code",
   "execution_count": 6,
   "metadata": {},
   "outputs": [
    {
     "data": {
      "text/plain": [
       "372450"
      ]
     },
     "execution_count": 6,
     "metadata": {},
     "output_type": "execute_result"
    }
   ],
   "source": [
    "# lets store the total number of samples\n",
    "nSamples = df.shape[0]\n",
    "nSamples"
   ]
  },
  {
   "cell_type": "markdown",
   "metadata": {},
   "source": [
    "## Visualising the dataset\n",
    "Before starting to work on any ML model we should have a clear idea of the dataset. We should visualise sample images of the dataset and also the distribution of the labels."
   ]
  },
  {
   "cell_type": "markdown",
   "metadata": {},
   "source": [
    "### How images look like\n",
    "We can create a color map of the images to see how hand writeen images really look like."
   ]
  },
  {
   "cell_type": "code",
   "execution_count": 7,
   "metadata": {},
   "outputs": [
    {
     "name": "stdout",
     "output_type": "stream",
     "text": [
      "28\n"
     ]
    },
    {
     "data": {
      "image/png": "[encoded data removed]",
      "text/plain": [
       "<Figure size 1440x1440 with 30 Axes>"
      ]
     },
     "metadata": {
      "needs_background": "light"
     },
     "output_type": "display_data"
    }
   ],
   "source": [
    "# plotting few images\n",
    "# we know the fact images are square though this is only needed for the plotting as for the model\n",
    "# we will use only the features as an array of pixels\n",
    "\n",
    "# we will plot some sample images using gray scale heatmaps\n",
    "dim = int(nFeatures ** 0.5)\n",
    "print(dim)\n",
    "\n",
    "figure = plt.figure(figsize=(20, 20))\n",
    "for i in range(30):\n",
    "    # select random image , will change with each run\n",
    "    index = np.random.randint(0, nSamples)\n",
    "    # get the image at the index\n",
    "    image = df.iloc[index, 1:].values.reshape(dim, dim)\n",
    "    # plot the image\n",
    "    plt.subplot(10, 10, i + 1)\n",
    "    plt.imshow(image, cmap='gray')\n",
    "    plt.axis('off')\n",
    "    # show the label under the image as A-Z instead of 0-25\n",
    "    label = chr(df.iloc[index, 0] + 65)\n",
    "    plt.title(label)\n",
    "plt.tight_layout()\n",
    "plt.show()\n"
   ]
  },
  {
   "cell_type": "markdown",
   "metadata": {},
   "source": [
    "### Distribution of class labels\n",
    "We must also know the distribution of the labels. Thid will help us check if all labels are balanced or not. If labels are not balanced then we will have to be cautious about out error metrics. Even if we will not use it lets still see the distribution of the labels."
   ]
  },
  {
   "cell_type": "code",
   "execution_count": 8,
   "metadata": {},
   "outputs": [
    {
     "data": {
      "image/png": "[encoded data removed]",
      "text/plain": [
       "<Figure size 720x360 with 1 Axes>"
      ]
     },
     "metadata": {
      "needs_background": "light"
     },
     "output_type": "display_data"
    }
   ],
   "source": [
    "# lets check the distribution of the labels\n",
    "lCount = df['label'].value_counts()\n",
    "# lets plot the distribution\n",
    "plt.figure(figsize=(10, 5))\n",
    "# convert the index to charaters in the plot to A - Z\n",
    "lCount.index = [chr(i + 65) for i in lCount.index]\n",
    "lCount = lCount.sort_index()\n",
    "sns.barplot(x=lCount.index, y=lCount.values)\n",
    "plt.show()"
   ]
  },
  {
   "cell_type": "markdown",
   "metadata": {},
   "source": [
    "So as we can see all labels are not balanced but the difference is not very large, except for F and I. We can think of reasons for this, as why the data collection is not balanced, or it might be the case that this nature is completly random or created intentioanlly. \n",
    "\n",
    "This distribution is surely not due to natural frequency of the labels in the english language as in that case letters like Z, X etc should be less frequent rather than F and I. \n",
    "\n",
    "For the time being this is not much a problem for us and we will not bother much, except we will later calculate the error for each class indiviaully as well to see if this has any significant impact on the accuracy."
   ]
  },
  {
   "cell_type": "markdown",
   "metadata": {},
   "source": [
    "## Data Preprocessing\n",
    "Now as we can see the features that are pixels have values ranging from 0 to 255. Now as we have to use Bayesian Classifier, we need to convert the values to range from 0 to 1.\n",
    "\n",
    "Also we need to create a probabilty distribution for each feature so if features have continuous values and we dont know the distribution so we cant create a effective probability distribution. \n",
    "\n",
    "So instead of generating a proability disiribution for each feature we can create a probablity mass function for each feature, but for that we will have to convert the features into descrete values.\n"
   ]
  },
  {
   "cell_type": "code",
   "execution_count": 9,
   "metadata": {},
   "outputs": [],
   "source": [
    "# normalising the data\n",
    "# we will normalise the data by dividing each pixel value by 255\n",
    "# this will make the data values between 0 and 1\n",
    "\n",
    "# we wont do that here because it will be computatuonal expensive\n",
    "# and we can move on without doing it as well because we have to anyway descretize the data\n",
    "# df[pixelsNumbers] = df[pixelsNumbers] / 255"
   ]
  },
  {
   "cell_type": "markdown",
   "metadata": {},
   "source": [
    "\n",
    "### Discretizing the features\n",
    "Here the images are basically drawn as white pixels on black background, we can ignore the white intensity and convert the whole image into only two shades complete white or complete black. \n",
    "\n",
    "We can chnage every pixel with value more than the half of max value to max and every pixel with value less than the half of max value to 0.\n",
    "\n",
    "We will also verify if the images remain recognisale to humans or not after this transformation."
   ]
  },
  {
   "cell_type": "code",
   "execution_count": 10,
   "metadata": {},
   "outputs": [
    {
     "data": {
      "text/html": [
       "<div>\n",
       "<style scoped>\n",
       "    .dataframe tbody tr th:only-of-type {\n",
       "        vertical-align: middle;\n",
       "    }\n",
       "\n",
       "    .dataframe tbody tr th {\n",
       "        vertical-align: top;\n",
       "    }\n",
       "\n",
       "    .dataframe thead th {\n",
       "        text-align: right;\n",
       "    }\n",
       "</style>\n",
       "<table border=\"1\" class=\"dataframe\">\n",
       "  <thead>\n",
       "    <tr style=\"text-align: right;\">\n",
       "      <th></th>\n",
       "      <th>label</th>\n",
       "      <th>pixel0</th>\n",
       "      <th>pixel1</th>\n",
       "      <th>pixel2</th>\n",
       "      <th>pixel3</th>\n",
       "      <th>pixel4</th>\n",
       "      <th>pixel5</th>\n",
       "      <th>pixel6</th>\n",
       "      <th>pixel7</th>\n",
       "      <th>pixel8</th>\n",
       "      <th>...</th>\n",
       "      <th>pixel774</th>\n",
       "      <th>pixel775</th>\n",
       "      <th>pixel776</th>\n",
       "      <th>pixel777</th>\n",
       "      <th>pixel778</th>\n",
       "      <th>pixel779</th>\n",
       "      <th>pixel780</th>\n",
       "      <th>pixel781</th>\n",
       "      <th>pixel782</th>\n",
       "      <th>pixel783</th>\n",
       "    </tr>\n",
       "  </thead>\n",
       "  <tbody>\n",
       "    <tr>\n",
       "      <th>0</th>\n",
       "      <td>0</td>\n",
       "      <td>0</td>\n",
       "      <td>0</td>\n",
       "      <td>0</td>\n",
       "      <td>0</td>\n",
       "      <td>0</td>\n",
       "      <td>0</td>\n",
       "      <td>0</td>\n",
       "      <td>0</td>\n",
       "      <td>0</td>\n",
       "      <td>...</td>\n",
       "      <td>0</td>\n",
       "      <td>0</td>\n",
       "      <td>0</td>\n",
       "      <td>0</td>\n",
       "      <td>0</td>\n",
       "      <td>0</td>\n",
       "      <td>0</td>\n",
       "      <td>0</td>\n",
       "      <td>0</td>\n",
       "      <td>0</td>\n",
       "    </tr>\n",
       "    <tr>\n",
       "      <th>1</th>\n",
       "      <td>0</td>\n",
       "      <td>0</td>\n",
       "      <td>0</td>\n",
       "      <td>0</td>\n",
       "      <td>0</td>\n",
       "      <td>0</td>\n",
       "      <td>0</td>\n",
       "      <td>0</td>\n",
       "      <td>0</td>\n",
       "      <td>0</td>\n",
       "      <td>...</td>\n",
       "      <td>0</td>\n",
       "      <td>0</td>\n",
       "      <td>0</td>\n",
       "      <td>0</td>\n",
       "      <td>0</td>\n",
       "      <td>0</td>\n",
       "      <td>0</td>\n",
       "      <td>0</td>\n",
       "      <td>0</td>\n",
       "      <td>0</td>\n",
       "    </tr>\n",
       "    <tr>\n",
       "      <th>2</th>\n",
       "      <td>0</td>\n",
       "      <td>0</td>\n",
       "      <td>0</td>\n",
       "      <td>0</td>\n",
       "      <td>0</td>\n",
       "      <td>0</td>\n",
       "      <td>0</td>\n",
       "      <td>0</td>\n",
       "      <td>0</td>\n",
       "      <td>0</td>\n",
       "      <td>...</td>\n",
       "      <td>0</td>\n",
       "      <td>0</td>\n",
       "      <td>0</td>\n",
       "      <td>0</td>\n",
       "      <td>0</td>\n",
       "      <td>0</td>\n",
       "      <td>0</td>\n",
       "      <td>0</td>\n",
       "      <td>0</td>\n",
       "      <td>0</td>\n",
       "    </tr>\n",
       "    <tr>\n",
       "      <th>3</th>\n",
       "      <td>0</td>\n",
       "      <td>0</td>\n",
       "      <td>0</td>\n",
       "      <td>0</td>\n",
       "      <td>0</td>\n",
       "      <td>0</td>\n",
       "      <td>0</td>\n",
       "      <td>0</td>\n",
       "      <td>0</td>\n",
       "      <td>0</td>\n",
       "      <td>...</td>\n",
       "      <td>0</td>\n",
       "      <td>0</td>\n",
       "      <td>0</td>\n",
       "      <td>0</td>\n",
       "      <td>0</td>\n",
       "      <td>0</td>\n",
       "      <td>0</td>\n",
       "      <td>0</td>\n",
       "      <td>0</td>\n",
       "      <td>0</td>\n",
       "    </tr>\n",
       "    <tr>\n",
       "      <th>4</th>\n",
       "      <td>0</td>\n",
       "      <td>0</td>\n",
       "      <td>0</td>\n",
       "      <td>0</td>\n",
       "      <td>0</td>\n",
       "      <td>0</td>\n",
       "      <td>0</td>\n",
       "      <td>0</td>\n",
       "      <td>0</td>\n",
       "      <td>0</td>\n",
       "      <td>...</td>\n",
       "      <td>0</td>\n",
       "      <td>0</td>\n",
       "      <td>0</td>\n",
       "      <td>0</td>\n",
       "      <td>0</td>\n",
       "      <td>0</td>\n",
       "      <td>0</td>\n",
       "      <td>0</td>\n",
       "      <td>0</td>\n",
       "      <td>0</td>\n",
       "    </tr>\n",
       "  </tbody>\n",
       "</table>\n",
       "<p>5 rows × 785 columns</p>\n",
       "</div>"
      ],
      "text/plain": [
       "   label  pixel0  pixel1  pixel2  pixel3  pixel4  pixel5  pixel6  pixel7  \\\n",
       "0      0       0       0       0       0       0       0       0       0   \n",
       "1      0       0       0       0       0       0       0       0       0   \n",
       "2      0       0       0       0       0       0       0       0       0   \n",
       "3      0       0       0       0       0       0       0       0       0   \n",
       "4      0       0       0       0       0       0       0       0       0   \n",
       "\n",
       "   pixel8  ...  pixel774  pixel775  pixel776  pixel777  pixel778  pixel779  \\\n",
       "0       0  ...         0         0         0         0         0         0   \n",
       "1       0  ...         0         0         0         0         0         0   \n",
       "2       0  ...         0         0         0         0         0         0   \n",
       "3       0  ...         0         0         0         0         0         0   \n",
       "4       0  ...         0         0         0         0         0         0   \n",
       "\n",
       "   pixel780  pixel781  pixel782  pixel783  \n",
       "0         0         0         0         0  \n",
       "1         0         0         0         0  \n",
       "2         0         0         0         0  \n",
       "3         0         0         0         0  \n",
       "4         0         0         0         0  \n",
       "\n",
       "[5 rows x 785 columns]"
      ]
     },
     "execution_count": 10,
     "metadata": {},
     "output_type": "execute_result"
    }
   ],
   "source": [
    "# making data descrete\n",
    "# we will convert every feature to either 0 or 1 as mentioned by the above strategy\n",
    "# we will use the threshold of 0.5\n",
    "threshold = 255 / 2  # make it 0.5 if data is normalised i.e when the above cell in uncommented\n",
    "df[pixelsNumbers] = df[pixelsNumbers].apply(lambda x: (x > threshold).astype(int))\n",
    "df.head()"
   ]
  },
  {
   "cell_type": "code",
   "execution_count": 11,
   "metadata": {},
   "outputs": [
    {
     "data": {
      "image/png": "[encoded data removed]",
      "text/plain": [
       "<Figure size 1440x1440 with 30 Axes>"
      ]
     },
     "metadata": {
      "needs_background": "light"
     },
     "output_type": "display_data"
    }
   ],
   "source": [
    "# now lets see how images looks like to humans after descretization\n",
    "# we will plot the images as we did before\n",
    "figure = plt.figure(figsize=(20, 20))\n",
    "for i in range(30):\n",
    "    # select random image\n",
    "    index = np.random.randint(0, nSamples)\n",
    "    image = df.iloc[index, 1:].values.reshape(dim, dim)\n",
    "    # plot the image\n",
    "    plt.subplot(10, 10, i + 1)\n",
    "    plt.imshow(image, cmap='gray')\n",
    "    plt.axis('off')\n",
    "    # show the label under the image in  charaters A-Z instead of 0-25\n",
    "    label = chr(df.iloc[index, 0] + 65)\n",
    "    plt.title(label)\n",
    "plt.tight_layout()\n",
    "plt.show()"
   ]
  },
  {
   "cell_type": "markdown",
   "metadata": {},
   "source": [
    "So we can see that images are still recognisable to humans after this transformation, so the amount of information lost for humans are very less. "
   ]
  },
  {
   "cell_type": "markdown",
   "metadata": {},
   "source": [
    "### Dividing the data into training and test set\n",
    "Like any learning model we need to divide the data into training and test set. We will use 80% of the data for training and 20% for testing. We can use other values as well depending on preferences and size of data set available. The split should be random, so we should shuffle the data or atleast the index of the data before splitting. "
   ]
  },
  {
   "cell_type": "code",
   "execution_count": 12,
   "metadata": {},
   "outputs": [
    {
     "data": {
      "text/plain": [
       "((297960, 785), (74490, 785))"
      ]
     },
     "execution_count": 12,
     "metadata": {},
     "output_type": "execute_result"
    }
   ],
   "source": [
    "# divide the data into train and test\n",
    "# we will use the inbuilt library function for this\n",
    "# later we will do everything from scratch as stated earlier\n",
    "train, test = train_test_split(df, test_size=0.2)\n",
    "train.shape, test.shape"
   ]
  },
  {
   "cell_type": "code",
   "execution_count": 13,
   "metadata": {},
   "outputs": [
    {
     "data": {
      "image/png": "[encoded data removed]",
      "text/plain": [
       "<Figure size 720x360 with 2 Axes>"
      ]
     },
     "metadata": {
      "needs_background": "light"
     },
     "output_type": "display_data"
    }
   ],
   "source": [
    "\n",
    "# lets see and plot label distribution in train and test\n",
    "# this will help us to understand the quality of the partision\n",
    "trainLabels = train['label'].value_counts()\n",
    "testLabels = test['label'].value_counts()\n",
    "\n",
    "# plot both the distributions in subplots\n",
    "figure = plt.figure(figsize=(10, 5))\n",
    "plt.subplot(121)\n",
    "plt.title('Train')\n",
    "# convert the index to charaters in the plot\n",
    "trainLabels.index = [chr(i + 65) for i in trainLabels.index]\n",
    "trainLabels = trainLabels.sort_index()\n",
    "testLabels.index = [chr(i + 65) for i in testLabels.index]\n",
    "testLabels = testLabels.sort_index()\n",
    "sns.barplot(x=trainLabels.index, y=trainLabels.values)\n",
    "plt.subplot(122)\n",
    "plt.title('Test')\n",
    "sns.barplot(x=testLabels.index, y=testLabels.values)\n",
    "plt.show()"
   ]
  },
  {
   "cell_type": "markdown",
   "metadata": {},
   "source": [
    "We can see that the distribution partision was random as done by the library, so we do not need to shuffle it."
   ]
  },
  {
   "cell_type": "markdown",
   "metadata": {},
   "source": [
    "## Training the model\n",
    "Now we have divided the data into training and test set, we can train the model. But first we need to understand what is the model and what training the model means.\n",
    "\n",
    "### Bayesian Classifier\n",
    "The Bayesian Classifier is a probabilistic classifier. It is a classifier that can be used to estimate the probability of a sample belonging to a particular class. \n",
    "\n",
    "### Training a Bayesian Classifier\n",
    "Training a Bayesian Classifier basically means to know the distribution of the features given a class or a label.\n",
    "\n",
    "In our case we have features which is the pixel values of the images and labels which is the class of the image. let say them **X**. We also have a label for each image lets call it Y. Each X is of size 784 and each of those 784 values in X can now be 0 or 1.\n",
    "\n",
    "So here learning the model means learning the probability of each possible or atleast each required value of **X**, given a class or label. i.e.\n",
    "We need to learn \n",
    "\\begin{equation}\n",
    "P(X = [0* 1*]|Y)\n",
    "\\end{equation}\n",
    "Where [0\\* 1\\*] means an array of length same as the number of features and each values can be either zero or one .\n",
    "\n",
    "### Need of Naive Bayes Classifier\n",
    "So we saw what training a bayes classifier means and how we can train it, so why comes the need of training a naive bayes classifier?\n",
    "\n",
    "If we stick to the fact that we need the learn probability of each possible value of **X**, given a class or label, then how many probabilities do we need to learn? This will depend on number of possibe values of **X** and number of classes or labels.\n",
    "\n",
    "Lets see how many possible values of **X** we have to learn for any particular label as here label are only 26 so that will not matter much. So as **X** is of length 784, there are total $2^{784}$ possible values of **X**, this is simply too large and no amount of data we can generate so that we can have enough sample to estimate these probabilities, even the required ones.\n",
    "\n",
    "Naive Bayes Classifier is an aproximation of calculating that probability. As per Naive Bayes approximation:\n",
    "\\begin{equation}\n",
    "P(X = someX|Y) = \\prod_{i=1}^{784}P(X_i = someX_i|Y)\n",
    "\\end{equation}\n",
    "\n",
    "So here we assume that all the features are independednt of each other and we can calculate the probability of each feature given a class or label and use it to estimate the probabilty of the whole feature vector.\n",
    "\n",
    "We used the sikitlearn library to train the model : https://scikit-learn.org/stable/modules/generated/sklearn.naive_bayes.CategoricalNB.html#sklearn.naive_bayes.CategoricalNB"
   ]
  },
  {
   "cell_type": "code",
   "execution_count": 14,
   "metadata": {},
   "outputs": [
    {
     "data": {
      "text/plain": [
       "CategoricalNB(min_categories=2)"
      ]
     },
     "execution_count": 14,
     "metadata": {},
     "output_type": "execute_result"
    }
   ],
   "source": [
    "# lets define the model\n",
    "# we will use the sklearn library functions for this\n",
    "import sklearn.naive_bayes as nb\n",
    "\n",
    "# create and tune the model\n",
    "model = nb.CategoricalNB(fit_prior=True, min_categories=2)\n",
    "model.fit(train[pixelsNumbers].values, train['label'].values)"
   ]
  },
  {
   "cell_type": "code",
   "execution_count": 15,
   "metadata": {},
   "outputs": [
    {
     "data": {
      "image/png": "[encoded data removed]",
      "text/plain": [
       "<Figure size 1440x1440 with 10 Axes>"
      ]
     },
     "metadata": {
      "needs_background": "light"
     },
     "output_type": "display_data"
    }
   ],
   "source": [
    "# now the model is trained, lets see how it predicts some of the random images\n",
    "\n",
    "# we will predict some unseem images from the test data and see the results\n",
    "# we will also plot the image and the predicted label and actual label\n",
    "n = 10\n",
    "figure = plt.figure(figsize=(20, 20))\n",
    "for i in range(n):\n",
    "    index = np.random.randint(0, test.shape[0])\n",
    "    features = test.iloc[index, 1:].values\n",
    "    label = test.iloc[index, 0]\n",
    "    image = features.reshape(dim, dim)\n",
    "\n",
    "    # get the prediction from the model\n",
    "    prediction = model.predict(features.reshape(1, -1))\n",
    "    # plot the image as a subplot\n",
    "\n",
    "    plt.subplot(n, 5, i + 1)\n",
    "    plt.imshow(image, cmap='gray')\n",
    "    plt.axis('off')\n",
    "    # plot the predicted label and actual label\n",
    "    plt.title('Predicted: ' + chr(prediction[0] + 65) + '\\nActual: ' + chr(label + 65))\n",
    "plt.tight_layout()\n",
    "plt.show()"
   ]
  },
  {
   "cell_type": "markdown",
   "metadata": {},
   "source": [
    "## Measuring the performance of the model\n",
    "Now we have trained the model, we can measure the performance of the model. We will use the accuracy of the model to measure the performance of the model. We have saved our test set for this purpose only.\n",
    "\n",
    "We will also use the confusion matrix to measure the performance of the model. This is a table that shows the number of correct and incorrect predictions made by the model. \n",
    "\n",
    "Later we will also use the classification report to measure the performance of the model. This is a table that shows the precision, recall, f1-score and support for each class. This is more useful when we have more than two classes and the distribution of the classes is not balanced.\n",
    "\n"
   ]
  },
  {
   "cell_type": "markdown",
   "metadata": {},
   "source": [
    "### Error rate of the model on whole test set\n",
    "Error is simiply the fraction of wrong predictions made by the model. This is just the opposite of accuracies.\n",
    "\\begin{equation}\n",
    "Error = n_{wrong}/n_{total}\n",
    "\\end{equation}\n",
    "\\begin{equation}\n",
    "Accuracy = 1 - Error = 1 - (n_{wrong}/n_{total}) = n_{correct}/n_{total}\n",
    "\\end{equation}"
   ]
  },
  {
   "cell_type": "code",
   "execution_count": 16,
   "metadata": {},
   "outputs": [
    {
     "name": "stdout",
     "output_type": "stream",
     "text": [
      "Score using Categorical NB:  0.7026178010471205\n"
     ]
    }
   ],
   "source": [
    "# calculating the error using the test data and inbuilt function provided on the model class\n",
    "score = model.score(test[pixelsNumbers], test['label'])\n",
    "print(\"Score using Categorical NB: \",score)"
   ]
  },
  {
   "cell_type": "markdown",
   "metadata": {},
   "source": [
    "## Creating a Naive Bayes Classifier from scratch\n",
    "Now as we have exploited the tools and libraries provided by the python, we can create a Naive Bayes Classifier from scratch. This will give us the better uderstanding of the model and how to train it."
   ]
  },
  {
   "cell_type": "markdown",
   "metadata": {},
   "source": [
    "### Partisioning the data into test and train\n",
    "Previously we used inbuilt functions to split the data into test and train set. But now we will do it from scratch."
   ]
  },
  {
   "cell_type": "code",
   "execution_count": 17,
   "metadata": {},
   "outputs": [],
   "source": [
    "# partisioning the data into 80:20 \n",
    "# this time we will do this ourselves\n",
    "\n",
    "\n",
    "\n",
    "# first as the data is not suffled either we can suffle it inplace \n",
    "# or we can suffle the index and use them to pick the rows\n",
    "\n",
    "# getting a random premutation of the index\n",
    "indexes = np.random.permutation(range(0, nSamples))\n",
    "\n",
    "# taking 80% of the data as train data and rest as test data\n",
    "trainIndexes = indexes[:int(nSamples * 0.8)]\n",
    "testIndexes = indexes[int(nSamples * 0.8):]\n",
    "\n",
    "test = df.iloc[testIndexes, :]\n",
    "train = df.iloc[trainIndexes, :]"
   ]
  },
  {
   "cell_type": "markdown",
   "metadata": {},
   "source": [
    "Check again the partisioning of the data into test and train set."
   ]
  },
  {
   "cell_type": "code",
   "execution_count": 18,
   "metadata": {},
   "outputs": [
    {
     "data": {
      "image/png": "[encoded data removed]",
      "text/plain": [
       "<Figure size 720x360 with 2 Axes>"
      ]
     },
     "metadata": {
      "needs_background": "light"
     },
     "output_type": "display_data"
    }
   ],
   "source": [
    "# plotting the distribution of the labels in train and test\n",
    "# This will help us to understand the quality of the partision\n",
    "trainLabelsCnt = train['label'].value_counts()\n",
    "testLabelsCnt = test['label'].value_counts()\n",
    "\n",
    "#plot the distribution in subplots\n",
    "figure = plt.figure(figsize=(10, 5))\n",
    "plt.subplot(121)\n",
    "plt.title('Train')\n",
    "# convert the index to charaters in the plot to A - Z\n",
    "trainLabelsCnt.index = [chr(i + 65) for i in trainLabelsCnt.index]\n",
    "trainLabelsCnt = trainLabelsCnt.sort_index()\n",
    "testLabelsCnt.index = [chr(i + 65) for i in testLabelsCnt.index]\n",
    "testLabelsCnt = testLabelsCnt.sort_index()\n",
    "sns.barplot(x=trainLabelsCnt.index, y=trainLabelsCnt.values)\n",
    "plt.subplot(122)\n",
    "plt.title('Test')\n",
    "sns.barplot(x=testLabelsCnt.index, y=testLabelsCnt.values)\n",
    "plt.show()"
   ]
  },
  {
   "cell_type": "markdown",
   "metadata": {},
   "source": [
    "## Creating a Model from scratch\n",
    "First we will learn the probability distribution for each pixel feature for all the labels. We will store it as a dictionary indexed by label and an array of probabilities for each pixel feature.\n",
    "\n",
    "Training the model means learning the probability of each possible value of **X**, given a class or label. We have explained what training means in the previous section."
   ]
  },
  {
   "cell_type": "code",
   "execution_count": 19,
   "metadata": {},
   "outputs": [],
   "source": [
    "# creating and training the model\n",
    "\n",
    "\n",
    "# lets create a function to create the model\n",
    "def createModel(train):\n",
    "    # dictionary to store the model\n",
    "    # model will store two things prior and conditional  probabilities\n",
    "    model = {'prior' : [], 'conditional' : {}}\n",
    "    \n",
    "    \n",
    "    # we will group the data by label\n",
    "    # and then calculate the probabilities for each pixel\n",
    "\n",
    "    for label in train['label'].unique():\n",
    "        # get the data for the label\n",
    "        data = train[train['label'] == label]\n",
    "        # calculate the conditional probabilities for each pixel\n",
    "        countPixels = data[pixelsNumbers].sum()\n",
    "        probPixels = (countPixels + 1) / (data.shape[0] + 2)\n",
    "        # convert the probabilities to basic numpy array\n",
    "        probPixels = probPixels.values\n",
    "        model['conditional'] = {**model['conditional'], **{label: probPixels}}\n",
    "\n",
    "    # sort the model by the label\n",
    "    model['conditional'] = {k: v for k, v in sorted(model['conditional'].items(), key=lambda item: item[0])}\n",
    "    \n",
    "    # lets calculate the prior probabilities\n",
    "\n",
    "    # get the total number of labels\n",
    "    nLabels = train['label'].unique().shape[0]\n",
    "    # calculate the prior probabilities\n",
    "    prior = train['label'].value_counts() / nSamples\n",
    "    # convert the probabilities to basic numpy array\n",
    "    prior = prior.values\n",
    "    model['prior'] = prior\n",
    "    return model\n",
    "       "
   ]
  },
  {
   "cell_type": "code",
   "execution_count": 20,
   "metadata": {},
   "outputs": [
    {
     "name": "stdout",
     "output_type": "stream",
     "text": [
      "dict_keys(['prior', 'conditional'])\n"
     ]
    }
   ],
   "source": [
    "ourModel = createModel(train)\n",
    "print(ourModel.keys())"
   ]
  },
  {
   "cell_type": "markdown",
   "metadata": {},
   "source": [
    "### Visualising the trained model\n",
    "Now we have learned the probability distribution for each pixel feature for all the labels. We can see the distribution of the features for each label. We can better visualise it by creating a heat map for each label. We will create gray scale map to see if letters are still visible.\n",
    "\n",
    "**As the values are binary we are basically storing the probability a pixel is white or 1**, the prbability a pixel is black or 0 will be 1 - probability of pixel being white. So we can plot this by just creating a heatmaps of the probabilities that a pixel should be white or black."
   ]
  },
  {
   "cell_type": "code",
   "execution_count": 21,
   "metadata": {},
   "outputs": [
    {
     "data": {
      "image/png": "[encoded data removed]",
      "text/plain": [
       "<Figure size 720x720 with 26 Axes>"
      ]
     },
     "metadata": {
      "needs_background": "light"
     },
     "output_type": "display_data"
    }
   ],
   "source": [
    "# lets crate heat map of the model for each label\n",
    "\n",
    "# create figure to plot 26 subplots for A to Z\n",
    "figure = plt.figure(figsize=(10, 10))\n",
    "for label in ourModel['conditional'].keys():\n",
    "    # get the probabilities for the label\n",
    "    probPixels = ourModel['conditional'][label]\n",
    "    # plot the heat map\n",
    "    plt.subplot(4, 7, label + 1)\n",
    "    plt.title(chr(label + 65))\n",
    "    plt.imshow(probPixels.reshape(dim, dim), cmap='gray')\n",
    "    plt.axis('off')\n",
    "plt.show()"
   ]
  },
  {
   "cell_type": "markdown",
   "metadata": {},
   "source": [
    "Note that the above plot is not plot of the pixel values but the probabilities learned by the model for each pixel given a label. So we can see that the model is sucessfully learning the probability of each pixel given a label.   \n",
    "\n",
    "As the values are binary we are basically storing the probability a pixel is white or 1 as stated above, and thats whu plotting it has been possible.\n",
    "\n",
    "We can also see the values of these probabilities for each label, butwe are plotting only one as that will be similar for all the labels, and we already have an idea from the above images.\n",
    "\n",
    "We should also note that it is only due to mere nature of the data, i.t it being image and features being binary pixel values that we can see the conditional probability for each features given a label similar to the image of the label. This would not be case in most of the cases.\n",
    "\n",
    "But in this case we can imagine it as the average color of each pixel for a particular label."
   ]
  },
  {
   "cell_type": "code",
   "execution_count": 22,
   "metadata": {},
   "outputs": [
    {
     "data": {
      "text/plain": [
       "<AxesSubplot:>"
      ]
     },
     "execution_count": 22,
     "metadata": {},
     "output_type": "execute_result"
    },
    {
     "data": {
      "image/png": "[encoded data removed]",
      "text/plain": [
       "<Figure size 1440x1440 with 2 Axes>"
      ]
     },
     "metadata": {},
     "output_type": "display_data"
    }
   ],
   "source": [
    "# lest see probabilities for any letter say A\n",
    "letter =  0 # A\n",
    "\n",
    "# we will plot the probabilities in a 2d grid as done above\n",
    "# we will use a color map as well as show the numbers\n",
    "\n",
    "probData = np.array(ourModel['conditional'][letter]).reshape(dim, dim)\n",
    "\n",
    "# plot the heat map\n",
    "\n",
    "sns.set(rc = {'figure.figsize':(20,20)} , font_scale = 1)\n",
    "sns.heatmap(probData, cmap='magma', annot=True, fmt='.2f')"
   ]
  },
  {
   "cell_type": "code",
   "execution_count": 23,
   "metadata": {},
   "outputs": [],
   "source": [
    "sns.set(rc = {'figure.figsize':(20,20)} , font_scale = 1.4)"
   ]
  },
  {
   "cell_type": "code",
   "execution_count": 24,
   "metadata": {},
   "outputs": [
    {
     "data": {
      "application/vnd.plotly.v1+json": {
       "config": {
        "plotlyServerURL": "https://plot.ly"
       },
       "data": [
        {
         "type": "surface",
         "z": [
          [
           0.00009079353550027238,
           0.00009079353550027238,
           0.00009079353550027238,
           0.00009079353550027238,
           0.00009079353550027238,
           0.00009079353550027238,
           0.00009079353550027238,
           0.00009079353550027238,
           0.00009079353550027238,
           0.00009079353550027238,
           0.00009079353550027238,
           0.00009079353550027238,
           0.00009079353550027238,
           0.00009079353550027238,
           0.00009079353550027238,
           0.00009079353550027238,
           0.00009079353550027238,
           0.00009079353550027238,
           0.00009079353550027238,
           0.00009079353550027238,
           0.00009079353550027238,
           0.00009079353550027238,
           0.00009079353550027238,
           0.00009079353550027238,
           0.00009079353550027238,
           0.00009079353550027238,
           0.00009079353550027238,
           0.00009079353550027238
          ],
          [
           0.00009079353550027238,
           0.00009079353550027238,
           0.00009079353550027238,
           0.00009079353550027238,
           0.00009079353550027238,
           0.00009079353550027238,
           0.00009079353550027238,
           0.00009079353550027238,
           0.00009079353550027238,
           0.00009079353550027238,
           0.00009079353550027238,
           0.00009079353550027238,
           0.00009079353550027238,
           0.00009079353550027238,
           0.00009079353550027238,
           0.00009079353550027238,
           0.00009079353550027238,
           0.00009079353550027238,
           0.00009079353550027238,
           0.00009079353550027238,
           0.00009079353550027238,
           0.00009079353550027238,
           0.00009079353550027238,
           0.00009079353550027238,
           0.00009079353550027238,
           0.00009079353550027238,
           0.00009079353550027238,
           0.00009079353550027238
          ],
          [
           0.00009079353550027238,
           0.00009079353550027238,
           0.00009079353550027238,
           0.00009079353550027238,
           0.00009079353550027238,
           0.00009079353550027238,
           0.00009079353550027238,
           0.00009079353550027238,
           0.00009079353550027238,
           0.00009079353550027238,
           0.00009079353550027238,
           0.00009079353550027238,
           0.00009079353550027238,
           0.00009079353550027238,
           0.00009079353550027238,
           0.00009079353550027238,
           0.00009079353550027238,
           0.00009079353550027238,
           0.00009079353550027238,
           0.00009079353550027238,
           0.00009079353550027238,
           0.00018158707100054475,
           0.00018158707100054475,
           0.00009079353550027238,
           0.00009079353550027238,
           0.00009079353550027238,
           0.00009079353550027238,
           0.00009079353550027238
          ],
          [
           0.00009079353550027238,
           0.00009079353550027238,
           0.00009079353550027238,
           0.00009079353550027238,
           0.00009079353550027238,
           0.00009079353550027238,
           0.00009079353550027238,
           0.00009079353550027238,
           0.00009079353550027238,
           0.00009079353550027238,
           0.00018158707100054475,
           0.00018158707100054475,
           0.00009079353550027238,
           0.00009079353550027238,
           0.00009079353550027238,
           0.00018158707100054475,
           0.00018158707100054475,
           0.00018158707100054475,
           0.00018158707100054475,
           0.00027238060650081714,
           0.00018158707100054475,
           0.00018158707100054475,
           0.00018158707100054475,
           0.00018158707100054475,
           0.00009079353550027238,
           0.00009079353550027238,
           0.00009079353550027238,
           0.00009079353550027238
          ],
          [
           0.00009079353550027238,
           0.00009079353550027238,
           0.00009079353550027238,
           0.00009079353550027238,
           0.0004539676775013619,
           0.001452696568004358,
           0.002905393136008716,
           0.005084437988015254,
           0.012166333757036499,
           0.02297076448156891,
           0.04203740693662611,
           0.06791356455420373,
           0.09605956055928817,
           0.1291992010168876,
           0.16706010532050117,
           0.18267659342654802,
           0.19938260395859814,
           0.20528418376611585,
           0.20274196477210824,
           0.18185945160704559,
           0.15952424187397857,
           0.11930270564735791,
           0.05874341746867623,
           0.01570728164154712,
           0.00009079353550027238,
           0.00009079353550027238,
           0.00009079353550027238,
           0.00009079353550027238
          ],
          [
           0.00009079353550027238,
           0.00009079353550027238,
           0.00009079353550027238,
           0.00009079353550027238,
           0.0009079353550027238,
           0.003359360813510078,
           0.006627928091519884,
           0.01570728164154712,
           0.030597421463591793,
           0.055928817868167786,
           0.08788814236426366,
           0.1331941165788996,
           0.18921372798256764,
           0.2548574541492646,
           0.31060468494643184,
           0.3636281096785909,
           0.3950426729616851,
           0.4121118576357363,
           0.39268204103867804,
           0.35191574359905575,
           0.2922643907753768,
           0.22071908480116215,
           0.138006173960414,
           0.051298347557653896,
           0.00018158707100054475,
           0.00009079353550027238,
           0.00009079353550027238,
           0.00009079353550027238
          ],
          [
           0.00009079353550027238,
           0.00009079353550027238,
           0.00009079353550027238,
           0.00009079353550027238,
           0.0013619030325040856,
           0.006718721627020156,
           0.011984746686035955,
           0.027964408934083893,
           0.049754857454149266,
           0.08234973669874705,
           0.12683856909388053,
           0.18912293444706738,
           0.25921554385327766,
           0.3488287633920465,
           0.4256400944252769,
           0.49618667150898854,
           0.5366805883421101,
           0.5385872525876158,
           0.5073542763755221,
           0.44960958779734883,
           0.36898492827310697,
           0.287997094606864,
           0.19284546940257855,
           0.08362084619575086,
           0.00018158707100054475,
           0.00009079353550027238,
           0.00009079353550027238,
           0.00009079353550027238
          ],
          [
           0.00009079353550027238,
           0.00009079353550027238,
           0.00009079353550027238,
           0.00009079353550027238,
           0.002451425458507354,
           0.010168875976030507,
           0.019248229526057745,
           0.040947884510622846,
           0.07072816415471218,
           0.11312874523333939,
           0.16706010532050117,
           0.2366987470492101,
           0.33284910114399857,
           0.42954421645178864,
           0.5086253858725259,
           0.5720900671872162,
           0.5918830579262756,
           0.5792627564917378,
           0.5384056655166152,
           0.4644997276193935,
           0.3906845832576721,
           0.31932086435445795,
           0.22426003268567277,
           0.11285636462683857,
           0.00018158707100054475,
           0.00009079353550027238,
           0.00009079353550027238,
           0.00009079353550027238
          ],
          [
           0.00009079353550027238,
           0.00009079353550027238,
           0.00009079353550027238,
           0.00009079353550027238,
           0.003994915562011985,
           0.011984746686035955,
           0.029871073179589612,
           0.05411294715816234,
           0.09487924459778464,
           0.14572362447793716,
           0.21645178863264936,
           0.3020700926094062,
           0.40348647176321045,
           0.4950971490829853,
           0.5563827855456691,
           0.5856183039767568,
           0.5814418013437443,
           0.5534773924096604,
           0.5027238060650082,
           0.4385327764663156,
           0.38224078445614673,
           0.3293989467949882,
           0.23343017977120029,
           0.11930270564735791,
           0.00018158707100054475,
           0.00009079353550027238,
           0.00009079353550027238,
           0.00009079353550027238
          ],
          [
           0.00009079353550027238,
           0.00009079353550027238,
           0.00009079353550027238,
           0.00009079353550027238,
           0.006809515162520429,
           0.018158707100054475,
           0.04022153622662066,
           0.07481387325222444,
           0.12774650444888325,
           0.18757944434356275,
           0.27864536045033594,
           0.37824586889413475,
           0.4737606682404213,
           0.530325040857091,
           0.5586526239331759,
           0.5480297802796441,
           0.517341565280552,
           0.47739240966043217,
           0.44007626656982024,
           0.40330488469220993,
           0.37751952061013255,
           0.3387506809515162,
           0.2287997094606864,
           0.1042309787543127,
           0.0003631741420010895,
           0.00009079353550027238,
           0.00009079353550027238,
           0.00009079353550027238
          ],
          [
           0.00009079353550027238,
           0.00009079353550027238,
           0.00009079353550027238,
           0.00009079353550027238,
           0.008080624659524242,
           0.024151080443072452,
           0.05384056655166152,
           0.09696749591429091,
           0.16252042854548757,
           0.2475031777737425,
           0.3593608135100781,
           0.463682585799891,
           0.5330488469220992,
           0.5439440711821318,
           0.5130742691120392,
           0.47103686217541313,
           0.4223715271472671,
           0.4043944071182132,
           0.4049391683312148,
           0.4063010713637189,
           0.39885600145269656,
           0.3524605048120574,
           0.2238968585436717,
           0.08779734882876339,
           0.0003631741420010895,
           0.00009079353550027238,
           0.00009079353550027238,
           0.00009079353550027238
          ],
          [
           0.00009079353550027238,
           0.00009079353550027238,
           0.00009079353550027238,
           0.00009079353550027238,
           0.011349191937534047,
           0.029598692573088795,
           0.06809515162520428,
           0.12683856909388053,
           0.21327401489013983,
           0.32985291447248954,
           0.4581441801343744,
           0.5534773924096604,
           0.5767205374977301,
           0.5412202651171236,
           0.4631378245868894,
           0.39395315053568186,
           0.37170873433811513,
           0.3857817323406573,
           0.43599055747230797,
           0.46086798619938263,
           0.45478481932086434,
           0.3750680951516252,
           0.2294352642091883,
           0.08098783366624296,
           0.0003631741420010895,
           0.00009079353550027238,
           0.00009079353550027238,
           0.00009079353550027238
          ],
          [
           0.00009079353550027238,
           0.00009079353550027238,
           0.00009079353550027238,
           0.00009079353550027238,
           0.01334664971854004,
           0.03767931723261304,
           0.09215543853277647,
           0.17559469765752678,
           0.2923551843108771,
           0.44634102051933905,
           0.5758126021427274,
           0.6394588705284183,
           0.6271109497003813,
           0.5521154893771564,
           0.45941528963137823,
           0.4049391683312148,
           0.4171962956237516,
           0.47294352642091886,
           0.5330488469220992,
           0.569003086980207,
           0.531686943889595,
           0.40394043944071184,
           0.23806065008171418,
           0.08752496822226258,
           0.0003631741420010895,
           0.00009079353550027238,
           0.00009079353550027238,
           0.00009079353550027238
          ],
          [
           0.00009079353550027238,
           0.00009079353550027238,
           0.00009079353550027238,
           0.00009079353550027238,
           0.01670601053205012,
           0.05075358634465226,
           0.12275285999636826,
           0.24250953332122752,
           0.3957690212456873,
           0.5736335572907209,
           0.6888505538405666,
           0.7308879607771926,
           0.6947521336480843,
           0.6128563646268386,
           0.545669148356637,
           0.5239694933720719,
           0.5567459596876703,
           0.6229344470673688,
           0.676321045941529,
           0.6842200835300527,
           0.5966043217722898,
           0.4432540403123298,
           0.2613037951697839,
           0.10450335936081351,
           0.00027238060650081714,
           0.00009079353550027238,
           0.00009079353550027238,
           0.00009079353550027238
          ],
          [
           0.00009079353550027238,
           0.00009079353550027238,
           0.00009079353550027238,
           0.00009079353550027238,
           0.02015616488106047,
           0.069003086980207,
           0.17559469765752678,
           0.33221354639549666,
           0.5153441074995461,
           0.685672780098057,
           0.7764663155983293,
           0.7859088432903577,
           0.7380606500817142,
           0.6777737425095334,
           0.632649355365898,
           0.6304703105138915,
           0.67668422008353,
           0.7327946250226984,
           0.7657526784092973,
           0.7355184310877065,
           0.6218449246413655,
           0.44634102051933905,
           0.2620301434537861,
           0.09923733430179771,
           0.00027238060650081714,
           0.00009079353550027238,
           0.00009079353550027238,
           0.00009079353550027238
          ],
          [
           0.00009079353550027238,
           0.00009079353550027238,
           0.00009079353550027238,
           0.00009079353550027238,
           0.02514980933357545,
           0.09660432177228981,
           0.24632286181223897,
           0.4408026148538224,
           0.6268385690938805,
           0.7524968222262575,
           0.7854548756128563,
           0.7397857272562194,
           0.6701470855275105,
           0.6235700018158707,
           0.6074995460323225,
           0.617668422008353,
           0.6577991646994734,
           0.7271654258216815,
           0.7663882331577991,
           0.7227165425821681,
           0.5848919556927547,
           0.38914109315416745,
           0.20818957690212456,
           0.07717450517523153,
           0.00018158707100054475,
           0.00009079353550027238,
           0.00009079353550027238,
           0.00009079353550027238
          ],
          [
           0.00009079353550027238,
           0.00009079353550027238,
           0.00009079353550027238,
           0.0003631741420010895,
           0.0364990012711095,
           0.14617759215543855,
           0.3342110041765026,
           0.5392228073361177,
           0.6982022879970946,
           0.7430542945342291,
           0.6798619938260396,
           0.5611040493916833,
           0.4697657526784093,
           0.43444706736880334,
           0.43535500272380606,
           0.46704194661340115,
           0.5447612130016343,
           0.6474487016524424,
           0.6989286362810968,
           0.642001089522426,
           0.49246413655347737,
           0.29998184129289995,
           0.14735790811694208,
           0.050027238060650084,
           0.00027238060650081714,
           0.00009079353550027238,
           0.00009079353550027238,
           0.00009079353550027238
          ],
          [
           0.00009079353550027238,
           0.00009079353550027238,
           0.00027238060650081714,
           0.0006355547485019067,
           0.06428182313419284,
           0.23188668966769566,
           0.4527873615398584,
           0.6263846014163792,
           0.7095514799346286,
           0.6576175776284728,
           0.5015434901035046,
           0.3383875068095152,
           0.2472307971672417,
           0.22362447793717088,
           0.24813873252224442,
           0.3067913564554204,
           0.41538042491374616,
           0.5443072453241329,
           0.6072271654258217,
           0.5571999273651717,
           0.40884329035772654,
           0.23415652805520246,
           0.10332304339930996,
           0.03086980207009261,
           0.0003631741420010895,
           0.00009079353550027238,
           0.00009079353550027238,
           0.00009079353550027238
          ],
          [
           0.00009079353550027238,
           0.00018158707100054475,
           0.0004539676775013619,
           0.001452696568004358,
           0.12384238242237153,
           0.3442890866170329,
           0.5409478845106228,
           0.6652442346104958,
           0.6646086798619938,
           0.5257853640820773,
           0.32585799891047756,
           0.1587071000544761,
           0.10041765026330125,
           0.10759033956782277,
           0.15144361721445432,
           0.23579081169420738,
           0.3597239876520792,
           0.4792082803704376,
           0.5354094788451063,
           0.48756128563646267,
           0.34664971854003995,
           0.20010895224260034,
           0.08461957508625385,
           0.023787906301071363,
           0.0003631741420010895,
           0.00009079353550027238,
           0.00009079353550027238,
           0.00009079353550027238
          ],
          [
           0.00009079353550027238,
           0.00027238060650081714,
           0.0010895224260032686,
           0.0019974577810059923,
           0.20419466134011258,
           0.42918104230978754,
           0.5911567096422735,
           0.6492645723624478,
           0.571999273651716,
           0.3963137824586889,
           0.19384419829308153,
           0.0736335572907209,
           0.04594152896313782,
           0.07236244779371709,
           0.13419284546940258,
           0.22071908480116215,
           0.34092972580352277,
           0.42990739059378974,
           0.47485019066642453,
           0.42618485563827857,
           0.30552024695841656,
           0.1873978572725622,
           0.08525512983475576,
           0.022698383875068093,
           0.0004539676775013619,
           0.00018158707100054475,
           0.00009079353550027238,
           0.00009079353550027238
          ],
          [
           0.00009079353550027238,
           0.0005447612130016343,
           0.0012711094970038134,
           0.002905393136008716,
           0.2649355365897948,
           0.47167241692391504,
           0.5832576720537498,
           0.5872525876157617,
           0.4612311603413837,
           0.2745596513528237,
           0.10822589431632468,
           0.03867804612311603,
           0.03767931723261304,
           0.07181768658071545,
           0.14191029598692573,
           0.21717813691665153,
           0.3082440530234247,
           0.3808788814236426,
           0.41828581804975484,
           0.37697475939713093,
           0.27265298710731795,
           0.17840929725803523,
           0.08988560014526965,
           0.027873615398583622,
           0.0005447612130016343,
           0.0003631741420010895,
           0.00009079353550027238,
           0.00009079353550027238
          ],
          [
           0.00018158707100054475,
           0.000726348284002179,
           0.0015434901035046304,
           0.002814599600508444,
           0.2567641183947703,
           0.44107499546032325,
           0.5164336299255493,
           0.4739422553114218,
           0.3431995641910296,
           0.1794988196840385,
           0.06945705465770838,
           0.028055202469584165,
           0.03831487198111495,
           0.07154530597421463,
           0.1291992010168876,
           0.19575086253858726,
           0.26829489740330487,
           0.3267659342654803,
           0.3471944797530416,
           0.30960595605592883,
           0.24205556564372616,
           0.16551661521699654,
           0.08906845832576721,
           0.03622662066460868,
           0.0005447612130016343,
           0.0003631741420010895,
           0.00018158707100054475,
           0.00009079353550027238
          ],
          [
           0.00009079353550027238,
           0.000726348284002179,
           0.0012711094970038134,
           0.002542218994007627,
           0.18885055384056657,
           0.3384783003450154,
           0.3902306155801707,
           0.33620846195750864,
           0.22825494824768477,
           0.11158525512983476,
           0.04085709097512257,
           0.023152351552569457,
           0.02869075721808607,
           0.05565643726166697,
           0.09787543126929363,
           0.15344107499546034,
           0.20165244234610497,
           0.2422371527147267,
           0.2502269838387507,
           0.22307971672416924,
           0.18303976756854912,
           0.12829126566188487,
           0.07572180860722716,
           0.037043762484111134,
           0.0005447612130016343,
           0.0003631741420010895,
           0.00018158707100054475,
           0.00009079353550027238
          ],
          [
           0.00018158707100054475,
           0.0005447612130016343,
           0.001180315961503541,
           0.0017250771745051753,
           0.08498274922825495,
           0.1831305611040494,
           0.19920101688759762,
           0.17060105320501182,
           0.10768113310332304,
           0.05529326311966588,
           0.01706918467405121,
           0.012166333757036499,
           0.01489013982204467,
           0.028418376611585257,
           0.048211367350644636,
           0.07835482113673506,
           0.10250590157980752,
           0.13146903940439442,
           0.13037951697839115,
           0.12111857635736335,
           0.0979662248047939,
           0.07417831850372253,
           0.044034864717632106,
           0.019974577810059922,
           0.0006355547485019067,
           0.0003631741420010895,
           0.00027238060650081714,
           0.00009079353550027238
          ],
          [
           0.00009079353550027238,
           0.0003631741420010895,
           0.0004539676775013619,
           0.0009079353550027238,
           0.0013619030325040856,
           0.0008171418195024514,
           0.0003631741420010895,
           0.00018158707100054475,
           0.00009079353550027238,
           0.00009079353550027238,
           0.00009079353550027238,
           0.00018158707100054475,
           0.0004539676775013619,
           0.0006355547485019067,
           0.0008171418195024514,
           0.0006355547485019067,
           0.000726348284002179,
           0.0010895224260032686,
           0.0012711094970038134,
           0.001452696568004358,
           0.0013619030325040856,
           0.0006355547485019067,
           0.0006355547485019067,
           0.0004539676775013619,
           0.0005447612130016343,
           0.0003631741420010895,
           0.00027238060650081714,
           0.00009079353550027238
          ],
          [
           0.00009079353550027238,
           0.00018158707100054475,
           0.0003631741420010895,
           0.0005447612130016343,
           0.0004539676775013619,
           0.0004539676775013619,
           0.00018158707100054475,
           0.00018158707100054475,
           0.00009079353550027238,
           0.00009079353550027238,
           0.00009079353550027238,
           0.00018158707100054475,
           0.00027238060650081714,
           0.00027238060650081714,
           0.00027238060650081714,
           0.00027238060650081714,
           0.0003631741420010895,
           0.0004539676775013619,
           0.0006355547485019067,
           0.000726348284002179,
           0.0006355547485019067,
           0.0003631741420010895,
           0.00027238060650081714,
           0.0003631741420010895,
           0.0003631741420010895,
           0.0003631741420010895,
           0.00027238060650081714,
           0.00009079353550027238
          ],
          [
           0.00009079353550027238,
           0.00009079353550027238,
           0.00018158707100054475,
           0.00018158707100054475,
           0.00018158707100054475,
           0.00009079353550027238,
           0.00009079353550027238,
           0.00009079353550027238,
           0.00009079353550027238,
           0.00009079353550027238,
           0.00009079353550027238,
           0.00018158707100054475,
           0.00009079353550027238,
           0.00009079353550027238,
           0.00018158707100054475,
           0.00018158707100054475,
           0.00027238060650081714,
           0.00018158707100054475,
           0.00027238060650081714,
           0.0003631741420010895,
           0.00027238060650081714,
           0.00018158707100054475,
           0.00018158707100054475,
           0.00018158707100054475,
           0.00027238060650081714,
           0.00027238060650081714,
           0.00018158707100054475,
           0.00009079353550027238
          ],
          [
           0.00009079353550027238,
           0.00009079353550027238,
           0.00009079353550027238,
           0.00009079353550027238,
           0.00009079353550027238,
           0.00009079353550027238,
           0.00009079353550027238,
           0.00009079353550027238,
           0.00009079353550027238,
           0.00009079353550027238,
           0.00009079353550027238,
           0.00009079353550027238,
           0.00009079353550027238,
           0.00009079353550027238,
           0.00009079353550027238,
           0.00009079353550027238,
           0.00018158707100054475,
           0.00018158707100054475,
           0.00009079353550027238,
           0.00018158707100054475,
           0.00018158707100054475,
           0.00009079353550027238,
           0.00009079353550027238,
           0.00009079353550027238,
           0.00009079353550027238,
           0.00018158707100054475,
           0.00009079353550027238,
           0.00009079353550027238
          ]
         ]
        }
       ],
       "layout": {
        "autosize": false,
        "height": 800,
        "template": {
         "data": {
          "bar": [
           {
            "error_x": {
             "color": "#2a3f5f"
            },
            "error_y": {
             "color": "#2a3f5f"
            },
            "marker": {
             "line": {
              "color": "#E5ECF6",
              "width": 0.5
             },
             "pattern": {
              "fillmode": "overlay",
              "size": 10,
              "solidity": 0.2
             }
            },
            "type": "bar"
           }
          ],
          "barpolar": [
           {
            "marker": {
             "line": {
              "color": "#E5ECF6",
              "width": 0.5
             },
             "pattern": {
              "fillmode": "overlay",
              "size": 10,
              "solidity": 0.2
             }
            },
            "type": "barpolar"
           }
          ],
          "carpet": [
           {
            "aaxis": {
             "endlinecolor": "#2a3f5f",
             "gridcolor": "white",
             "linecolor": "white",
             "minorgridcolor": "white",
             "startlinecolor": "#2a3f5f"
            },
            "baxis": {
             "endlinecolor": "#2a3f5f",
             "gridcolor": "white",
             "linecolor": "white",
             "minorgridcolor": "white",
             "startlinecolor": "#2a3f5f"
            },
            "type": "carpet"
           }
          ],
          "choropleth": [
           {
            "colorbar": {
             "outlinewidth": 0,
             "ticks": ""
            },
            "type": "choropleth"
           }
          ],
          "contour": [
           {
            "colorbar": {
             "outlinewidth": 0,
             "ticks": ""
            },
            "colorscale": [
             [
              0,
              "#0d0887"
             ],
             [
              0.1111111111111111,
              "#46039f"
             ],
             [
              0.2222222222222222,
              "#7201a8"
             ],
             [
              0.3333333333333333,
              "#9c179e"
             ],
             [
              0.4444444444444444,
              "#bd3786"
             ],
             [
              0.5555555555555556,
              "#d8576b"
             ],
             [
              0.6666666666666666,
              "#ed7953"
             ],
             [
              0.7777777777777778,
              "#fb9f3a"
             ],
             [
              0.8888888888888888,
              "#fdca26"
             ],
             [
              1,
              "#f0f921"
             ]
            ],
            "type": "contour"
           }
          ],
          "contourcarpet": [
           {
            "colorbar": {
             "outlinewidth": 0,
             "ticks": ""
            },
            "type": "contourcarpet"
           }
          ],
          "heatmap": [
           {
            "colorbar": {
             "outlinewidth": 0,
             "ticks": ""
            },
            "colorscale": [
             [
              0,
              "#0d0887"
             ],
             [
              0.1111111111111111,
              "#46039f"
             ],
             [
              0.2222222222222222,
              "#7201a8"
             ],
             [
              0.3333333333333333,
              "#9c179e"
             ],
             [
              0.4444444444444444,
              "#bd3786"
             ],
             [
              0.5555555555555556,
              "#d8576b"
             ],
             [
              0.6666666666666666,
              "#ed7953"
             ],
             [
              0.7777777777777778,
              "#fb9f3a"
             ],
             [
              0.8888888888888888,
              "#fdca26"
             ],
             [
              1,
              "#f0f921"
             ]
            ],
            "type": "heatmap"
           }
          ],
          "heatmapgl": [
           {
            "colorbar": {
             "outlinewidth": 0,
             "ticks": ""
            },
            "colorscale": [
             [
              0,
              "#0d0887"
             ],
             [
              0.1111111111111111,
              "#46039f"
             ],
             [
              0.2222222222222222,
              "#7201a8"
             ],
             [
              0.3333333333333333,
              "#9c179e"
             ],
             [
              0.4444444444444444,
              "#bd3786"
             ],
             [
              0.5555555555555556,
              "#d8576b"
             ],
             [
              0.6666666666666666,
              "#ed7953"
             ],
             [
              0.7777777777777778,
              "#fb9f3a"
             ],
             [
              0.8888888888888888,
              "#fdca26"
             ],
             [
              1,
              "#f0f921"
             ]
            ],
            "type": "heatmapgl"
           }
          ],
          "histogram": [
           {
            "marker": {
             "pattern": {
              "fillmode": "overlay",
              "size": 10,
              "solidity": 0.2
             }
            },
            "type": "histogram"
           }
          ],
          "histogram2d": [
           {
            "colorbar": {
             "outlinewidth": 0,
             "ticks": ""
            },
            "colorscale": [
             [
              0,
              "#0d0887"
             ],
             [
              0.1111111111111111,
              "#46039f"
             ],
             [
              0.2222222222222222,
              "#7201a8"
             ],
             [
              0.3333333333333333,
              "#9c179e"
             ],
             [
              0.4444444444444444,
              "#bd3786"
             ],
             [
              0.5555555555555556,
              "#d8576b"
             ],
             [
              0.6666666666666666,
              "#ed7953"
             ],
             [
              0.7777777777777778,
              "#fb9f3a"
             ],
             [
              0.8888888888888888,
              "#fdca26"
             ],
             [
              1,
              "#f0f921"
             ]
            ],
            "type": "histogram2d"
           }
          ],
          "histogram2dcontour": [
           {
            "colorbar": {
             "outlinewidth": 0,
             "ticks": ""
            },
            "colorscale": [
             [
              0,
              "#0d0887"
             ],
             [
              0.1111111111111111,
              "#46039f"
             ],
             [
              0.2222222222222222,
              "#7201a8"
             ],
             [
              0.3333333333333333,
              "#9c179e"
             ],
             [
              0.4444444444444444,
              "#bd3786"
             ],
             [
              0.5555555555555556,
              "#d8576b"
             ],
             [
              0.6666666666666666,
              "#ed7953"
             ],
             [
              0.7777777777777778,
              "#fb9f3a"
             ],
             [
              0.8888888888888888,
              "#fdca26"
             ],
             [
              1,
              "#f0f921"
             ]
            ],
            "type": "histogram2dcontour"
           }
          ],
          "mesh3d": [
           {
            "colorbar": {
             "outlinewidth": 0,
             "ticks": ""
            },
            "type": "mesh3d"
           }
          ],
          "parcoords": [
           {
            "line": {
             "colorbar": {
              "outlinewidth": 0,
              "ticks": ""
             }
            },
            "type": "parcoords"
           }
          ],
          "pie": [
           {
            "automargin": true,
            "type": "pie"
           }
          ],
          "scatter": [
           {
            "marker": {
             "colorbar": {
              "outlinewidth": 0,
              "ticks": ""
             }
            },
            "type": "scatter"
           }
          ],
          "scatter3d": [
           {
            "line": {
             "colorbar": {
              "outlinewidth": 0,
              "ticks": ""
             }
            },
            "marker": {
             "colorbar": {
              "outlinewidth": 0,
              "ticks": ""
             }
            },
            "type": "scatter3d"
           }
          ],
          "scattercarpet": [
           {
            "marker": {
             "colorbar": {
              "outlinewidth": 0,
              "ticks": ""
             }
            },
            "type": "scattercarpet"
           }
          ],
          "scattergeo": [
           {
            "marker": {
             "colorbar": {
              "outlinewidth": 0,
              "ticks": ""
             }
            },
            "type": "scattergeo"
           }
          ],
          "scattergl": [
           {
            "marker": {
             "colorbar": {
              "outlinewidth": 0,
              "ticks": ""
             }
            },
            "type": "scattergl"
           }
          ],
          "scattermapbox": [
           {
            "marker": {
             "colorbar": {
              "outlinewidth": 0,
              "ticks": ""
             }
            },
            "type": "scattermapbox"
           }
          ],
          "scatterpolar": [
           {
            "marker": {
             "colorbar": {
              "outlinewidth": 0,
              "ticks": ""
             }
            },
            "type": "scatterpolar"
           }
          ],
          "scatterpolargl": [
           {
            "marker": {
             "colorbar": {
              "outlinewidth": 0,
              "ticks": ""
             }
            },
            "type": "scatterpolargl"
           }
          ],
          "scatterternary": [
           {
            "marker": {
             "colorbar": {
              "outlinewidth": 0,
              "ticks": ""
             }
            },
            "type": "scatterternary"
           }
          ],
          "surface": [
           {
            "colorbar": {
             "outlinewidth": 0,
             "ticks": ""
            },
            "colorscale": [
             [
              0,
              "#0d0887"
             ],
             [
              0.1111111111111111,
              "#46039f"
             ],
             [
              0.2222222222222222,
              "#7201a8"
             ],
             [
              0.3333333333333333,
              "#9c179e"
             ],
             [
              0.4444444444444444,
              "#bd3786"
             ],
             [
              0.5555555555555556,
              "#d8576b"
             ],
             [
              0.6666666666666666,
              "#ed7953"
             ],
             [
              0.7777777777777778,
              "#fb9f3a"
             ],
             [
              0.8888888888888888,
              "#fdca26"
             ],
             [
              1,
              "#f0f921"
             ]
            ],
            "type": "surface"
           }
          ],
          "table": [
           {
            "cells": {
             "fill": {
              "color": "#EBF0F8"
             },
             "line": {
              "color": "white"
             }
            },
            "header": {
             "fill": {
              "color": "#C8D4E3"
             },
             "line": {
              "color": "white"
             }
            },
            "type": "table"
           }
          ]
         },
         "layout": {
          "annotationdefaults": {
           "arrowcolor": "#2a3f5f",
           "arrowhead": 0,
           "arrowwidth": 1
          },
          "autotypenumbers": "strict",
          "coloraxis": {
           "colorbar": {
            "outlinewidth": 0,
            "ticks": ""
           }
          },
          "colorscale": {
           "diverging": [
            [
             0,
             "#8e0152"
            ],
            [
             0.1,
             "#c51b7d"
            ],
            [
             0.2,
             "#de77ae"
            ],
            [
             0.3,
             "#f1b6da"
            ],
            [
             0.4,
             "#fde0ef"
            ],
            [
             0.5,
             "#f7f7f7"
            ],
            [
             0.6,
             "#e6f5d0"
            ],
            [
             0.7,
             "#b8e186"
            ],
            [
             0.8,
             "#7fbc41"
            ],
            [
             0.9,
             "#4d9221"
            ],
            [
             1,
             "#276419"
            ]
           ],
           "sequential": [
            [
             0,
             "#0d0887"
            ],
            [
             0.1111111111111111,
             "#46039f"
            ],
            [
             0.2222222222222222,
             "#7201a8"
            ],
            [
             0.3333333333333333,
             "#9c179e"
            ],
            [
             0.4444444444444444,
             "#bd3786"
            ],
            [
             0.5555555555555556,
             "#d8576b"
            ],
            [
             0.6666666666666666,
             "#ed7953"
            ],
            [
             0.7777777777777778,
             "#fb9f3a"
            ],
            [
             0.8888888888888888,
             "#fdca26"
            ],
            [
             1,
             "#f0f921"
            ]
           ],
           "sequentialminus": [
            [
             0,
             "#0d0887"
            ],
            [
             0.1111111111111111,
             "#46039f"
            ],
            [
             0.2222222222222222,
             "#7201a8"
            ],
            [
             0.3333333333333333,
             "#9c179e"
            ],
            [
             0.4444444444444444,
             "#bd3786"
            ],
            [
             0.5555555555555556,
             "#d8576b"
            ],
            [
             0.6666666666666666,
             "#ed7953"
            ],
            [
             0.7777777777777778,
             "#fb9f3a"
            ],
            [
             0.8888888888888888,
             "#fdca26"
            ],
            [
             1,
             "#f0f921"
            ]
           ]
          },
          "colorway": [
           "#636efa",
           "#EF553B",
           "#00cc96",
           "#ab63fa",
           "#FFA15A",
           "#19d3f3",
           "#FF6692",
           "#B6E880",
           "#FF97FF",
           "#FECB52"
          ],
          "font": {
           "color": "#2a3f5f"
          },
          "geo": {
           "bgcolor": "white",
           "lakecolor": "white",
           "landcolor": "#E5ECF6",
           "showlakes": true,
           "showland": true,
           "subunitcolor": "white"
          },
          "hoverlabel": {
           "align": "left"
          },
          "hovermode": "closest",
          "mapbox": {
           "style": "light"
          },
          "paper_bgcolor": "white",
          "plot_bgcolor": "#E5ECF6",
          "polar": {
           "angularaxis": {
            "gridcolor": "white",
            "linecolor": "white",
            "ticks": ""
           },
           "bgcolor": "#E5ECF6",
           "radialaxis": {
            "gridcolor": "white",
            "linecolor": "white",
            "ticks": ""
           }
          },
          "scene": {
           "xaxis": {
            "backgroundcolor": "#E5ECF6",
            "gridcolor": "white",
            "gridwidth": 2,
            "linecolor": "white",
            "showbackground": true,
            "ticks": "",
            "zerolinecolor": "white"
           },
           "yaxis": {
            "backgroundcolor": "#E5ECF6",
            "gridcolor": "white",
            "gridwidth": 2,
            "linecolor": "white",
            "showbackground": true,
            "ticks": "",
            "zerolinecolor": "white"
           },
           "zaxis": {
            "backgroundcolor": "#E5ECF6",
            "gridcolor": "white",
            "gridwidth": 2,
            "linecolor": "white",
            "showbackground": true,
            "ticks": "",
            "zerolinecolor": "white"
           }
          },
          "shapedefaults": {
           "line": {
            "color": "#2a3f5f"
           }
          },
          "ternary": {
           "aaxis": {
            "gridcolor": "white",
            "linecolor": "white",
            "ticks": ""
           },
           "baxis": {
            "gridcolor": "white",
            "linecolor": "white",
            "ticks": ""
           },
           "bgcolor": "#E5ECF6",
           "caxis": {
            "gridcolor": "white",
            "linecolor": "white",
            "ticks": ""
           }
          },
          "title": {
           "x": 0.05
          },
          "xaxis": {
           "automargin": true,
           "gridcolor": "white",
           "linecolor": "white",
           "ticks": "",
           "title": {
            "standoff": 15
           },
           "zerolinecolor": "white",
           "zerolinewidth": 2
          },
          "yaxis": {
           "automargin": true,
           "gridcolor": "white",
           "linecolor": "white",
           "ticks": "",
           "title": {
            "standoff": 15
           },
           "zerolinecolor": "white",
           "zerolinewidth": 2
          }
         }
        },
        "title": {
         "text": "Probabilities for letter A"
        },
        "width": 800
       }
      }
     },
     "metadata": {},
     "output_type": "display_data"
    }
   ],
   "source": [
    "import plotly.graph_objects as go\n",
    "\n",
    "# lets plot a 3d plot of the probabilities \n",
    "fig = go.Figure(data=go.Surface(z=probData))\n",
    "fig.update_layout(title='Probabilities for letter A', autosize=False, width=800, height=800)  \n",
    "fig.show()\n"
   ]
  },
  {
   "cell_type": "markdown",
   "metadata": {},
   "source": [
    "## Calulating probabilities using Bayes Theorem\n",
    "As per Bayes Theorem:\n",
    "\\begin{equation}\n",
    "P(Y = y | X = x) = \\frac{P(X = x | Y = y)P(Y = y)} {\\sum_{y=1}^{26}P(Y=y)  P(X = x | Y = y)}\n",
    "\\end{equation}\n",
    "\n",
    "Applying Naiive Bayes Approximation the above equation can be chaged to:\n",
    "\\begin{equation}\n",
    "P(Y = y | X = x) = \\frac{\\prod_{i=1}^{784}P(X_i = x_i | Y = y)P(Y = y)} {\\sum_{y=1}^{26}\\prod_{i=1}^{784}P(X_i = x_i | Y = y)P(Y = y)}\n",
    "\\end{equation}\n",
    "\n",
    "Here we are interested in predicting the label so we will atlast to the argmax of the above equation i.e. the label with the highest probability.\n",
    "\\begin{equation}\n",
    "y = argmax_{y=1}^{26}P(Y = y | X = x)\n",
    "\\end{equation}\n",
    "And as we can see the denominator is same for each label, so we can just compute the numerator for each label and then find the label with the highest numerator.\n",
    "\n",
    "### Log of the probabilities\n",
    "We can also use log of the probabilities to avoid underflow. As we are again interested in the maximum and log is an monotonically increasing function, we can use log of the probabilities to avoid underflow.\n",
    "\n",
    "We can take log and convert our formula to the following:\n",
    "\\begin{equation}\n",
    "P(Y = y | X = x) = \\log{\\frac{P(X = x | Y = y)P(Y = y)}{\\sum_{y=1}^{26}P(Y=y)  P(X = x | Y = y)}}\n",
    "\\end{equation}\n",
    "\n",
    "We can  drop the denominator here as well so our equation will look like:\n",
    "\\begin{equation}\n",
    "P(Y = y | X = x) = \\log{\\prod_{i=1}^{784}P(X_i = x_i | Y = y)P(Y = y)}\n",
    "\\end{equation}\n",
    "\n",
    "We can use logarithmic property to convert the product into sum. So our equation will look like:\n",
    "\\begin{equation}\n",
    "P(Y = y | X = x) = \\sum_{i=1}^{784} \\log{P(X_i = x_i | Y = y)} + \\log{P(Y = y)}\n",
    "\\end{equation}\n",
    "\n",
    "Note that they are not correct values for probability though we are using P, but this is enough to calculate the argmax.\n",
    "\n",
    "Each function we have created to compute the probability for labels takes an argument to switch between log probability and non-log probability.\n"
   ]
  },
  {
   "cell_type": "code",
   "execution_count": 25,
   "metadata": {},
   "outputs": [],
   "source": [
    "# lets create a probability calculator using the above equation\n",
    "def calculateProb(x, model = ourModel, useLog = True):\n",
    "    \"\"\"\n",
    "    Calculate the conditional probability for each label given a single feature (image)\n",
    "\n",
    "    Params:\n",
    "        x: a single image (numpy array)\n",
    "        model: the model to use (dictionary)\n",
    "        useLog: use log probabilities (boolean)\n",
    "    Returns:\n",
    "        a dictionary of probabilities\n",
    "    \"\"\"\n",
    "    # get the prior probabilities\n",
    "    prior = model['prior']\n",
    "    # get the conditional probabilities\n",
    "    conditional = model['conditional']\n",
    "    \n",
    "    result = np.zeros(26)\n",
    "    for label in range(26):\n",
    "        # get the conditional probability for the label\n",
    "        condProb = conditional[label]\n",
    "        # if the value for a particluar feature is 1 then we multiply the conditional probability\n",
    "        # if the value for a particluar feature is 0 then we multiply the 1 - conditional probability \n",
    "        \n",
    "        # condProbBased on the value of the feature\n",
    "        condProbBasedOnFeature = np.array([condProb[i] if x[i] == 1 else (1 - condProb[i]) for i in range(x.shape[0])])\n",
    "        if useLog:\n",
    "            # if we are using log then we need to add the log of the conditional probability\n",
    "            # and then add the log of the prior probability\n",
    "            result[label] = np.log(prior[label]) + np.sum(np.log(condProbBasedOnFeature))\n",
    "        else:\n",
    "        # multiply the prior probability and the conditional probability\n",
    "            result[label] = np.prod(condProbBasedOnFeature) * prior[label]\n",
    "    return result\n",
    "    "
   ]
  },
  {
   "cell_type": "code",
   "execution_count": 26,
   "metadata": {},
   "outputs": [],
   "source": [
    "# function to calculat probability for a batch of features\n",
    "def calculateProbBatch(X, model = ourModel, useLog = True):\n",
    "    \"\"\"\n",
    "    Calculate the probability for each label given a batch of features (images)\n",
    "\n",
    "    Params:\n",
    "        X (numpy.array): A batch of features (images)\n",
    "        model (dict): The model\n",
    "    Returns:\n",
    "        numpy.array: The probability for each label\n",
    "    \"\"\"\n",
    "\n",
    "    ## This code works but is very slow so is commented out\n",
    "    # nSamples = X.shape[0]\n",
    "    # result = []\n",
    "    # for i in range(nSamples):\n",
    "    #     result.append(calculateProb(X[i], model))\n",
    "    # return np.array(result)\n",
    "\n",
    "\n",
    "    conditionalProb = model['conditional']\n",
    "    prior = model['prior']\n",
    "    probsForAllSample = []\n",
    "    X = X.copy()        \n",
    "    for label in range(26):\n",
    "        # get the conditional probability for the label\n",
    "        condProb = conditionalProb[label]\n",
    "        pr = prior[label]\n",
    "        # duplicate the conditional probability for all the samples\n",
    "        condProbs = np.tile(condProb, (X.shape[0], 1))\n",
    "        # multiply the conditional probability with the features\n",
    "        zerosPlaces = X.copy()\n",
    "        zerosPlaces = 1 - zerosPlaces # make 1 where x is 0 else make it 0\n",
    "        # check if Z and zeroPlaces are complements\n",
    "        assert np.all(np.logical_xor(X, zerosPlaces))\n",
    "        probWithOnes = np.multiply(condProbs , X ) # keep only probs where x is 1\n",
    "        probWithZeros = np.multiply(condProbs,  zerosPlaces) # keep only probs where x is 0\n",
    "        probWithZeros = zerosPlaces - probWithZeros # make 1 - probs where x is 0 else make it 0\n",
    "        allProbs = probWithOnes + probWithZeros # make 1 - probs where x is 0 else make it probs\n",
    "        \n",
    "        if useLog:\n",
    "            totalProbability = np.sum(np.log(allProbs), axis = 1)\n",
    "            totalProbability = totalProbability + np.log(pr)\n",
    "        else:\n",
    "            # calculate the product of all probabilites as well as prior\n",
    "            totalProbability = np.prod(allProbs, axis=1) * pr \n",
    "            # append the result to the list\n",
    "        probsForAllSample.append(totalProbability)\n",
    "    probsForAllSample = np.array(probsForAllSample).T\n",
    "    return probsForAllSample\n"
   ]
  },
  {
   "cell_type": "code",
   "execution_count": 27,
   "metadata": {},
   "outputs": [],
   "source": [
    "def predict(x, model = ourModel, useLog = True):\n",
    "    \"\"\"\n",
    "    Predict the label for a single feature (image)\n",
    "    Params:\n",
    "        x (numpy.array): A single feature (image)\n",
    "        model (dict): The model\n",
    "    Returns:\n",
    "        int: The predicted label\n",
    "    \"\"\"\n",
    "    # Get the class probabilities of the image x\n",
    "    prob = calculateProb(x, model, useLog)\n",
    "    # Get the index of the maximum value in the class/label probabilities\n",
    "    return np.argmax(prob)"
   ]
  },
  {
   "cell_type": "code",
   "execution_count": 28,
   "metadata": {},
   "outputs": [],
   "source": [
    "def predictBatch(X, model = ourModel, useLog = True):\n",
    "    \"\"\"\n",
    "    Predict the label for a batch of features (images)\n",
    "\n",
    "    Params:\n",
    "        X (numpy.array): A batch of features (images)\n",
    "        model (dict): The model\n",
    "    Returns:\n",
    "        numpy.array: The predicted labels\n",
    "    \"\"\"\n",
    "    # Get the probabilities of the images in X\n",
    "    prob = calculateProbBatch(X, model, useLog)\n",
    "    # Get the index of the maximum value in the class probabilities\n",
    "    return np.argmax(prob, axis=1)"
   ]
  },
  {
   "cell_type": "markdown",
   "metadata": {},
   "source": [
    "Now before calculating accuracies etc lets predict few examples from the test set as we did for previous section."
   ]
  },
  {
   "cell_type": "code",
   "execution_count": 29,
   "metadata": {},
   "outputs": [
    {
     "name": "stdout",
     "output_type": "stream",
     "text": [
      "(74490, 784) (74490,)\n"
     ]
    },
    {
     "data": {
      "image/png": "[encoded data removed]",
      "text/plain": [
       "<Figure size 1440x1440 with 20 Axes>"
      ]
     },
     "metadata": {},
     "output_type": "display_data"
    }
   ],
   "source": [
    "# select few radom images from the test data\n",
    "testFeatures = test[pixelsNumbers]\n",
    "testLabels = test['label']\n",
    "print(testFeatures.shape, testLabels.shape)\n",
    "figure = plt.figure(figsize=(20, 20))\n",
    "for i in range(20):\n",
    "    index = np.random.randint(0, testFeatures.shape[0])\n",
    "    x = testFeatures.iloc[index]\n",
    "    y = testLabels.iloc[index]\n",
    "    y_pred = predict(x, useLog = True)\n",
    "    # plot the image as a gray scale image sub plot\n",
    "    plt.subplot(5, 4, i + 1)\n",
    "    plt.imshow(x.values.reshape(dim, dim), cmap='gray')\n",
    "    plt.axis('off')\n",
    "    # plot the predicted label and actual label\n",
    "    plt.title('Predicted: {}, Actual: {}'.format(chr(y_pred + 65), chr(y + 65)))\n",
    "plt.tight_layout\n",
    "plt.show()"
   ]
  },
  {
   "cell_type": "markdown",
   "metadata": {},
   "source": [
    "### Now calculate error metrics for whole test set using our model\n",
    "We will use similar logic as in previous section to calculate the error metrics for the whole test set. "
   ]
  },
  {
   "cell_type": "code",
   "execution_count": 30,
   "metadata": {},
   "outputs": [],
   "source": [
    "# might take long time to run, around 10 15 minutes\n",
    "testPredictions = predictBatch(testFeatures.values)"
   ]
  },
  {
   "cell_type": "code",
   "execution_count": 31,
   "metadata": {},
   "outputs": [],
   "source": [
    "accuracy = np.mean(testPredictions == testLabels)\n",
    "error = 1 - accuracy"
   ]
  },
  {
   "cell_type": "code",
   "execution_count": 32,
   "metadata": {},
   "outputs": [
    {
     "name": "stdout",
     "output_type": "stream",
     "text": [
      "Accuracy: 0.7000402738622634\n",
      "Error: 0.2999597261377366\n"
     ]
    }
   ],
   "source": [
    "# printing accuracuies and error\n",
    "print('Accuracy: {}'.format(accuracy))\n",
    "print('Error: {}'.format(error))"
   ]
  },
  {
   "cell_type": "markdown",
   "metadata": {},
   "source": [
    "### Now calculate error and accuracies for each label\n",
    "As data was little skewed and due to some other reasons as well lets first check the accuracy of the model for each label."
   ]
  },
  {
   "cell_type": "code",
   "execution_count": 33,
   "metadata": {},
   "outputs": [],
   "source": [
    "# might take long time to run, around 10 15 minutes\n",
    "testBylabel = test.groupby('label')\n",
    "accuracyPerLabel = []\n",
    " \n",
    "# calculate the accuracy for each label\n",
    "for label in range(26):\n",
    "    # get the test data for the label\n",
    "    Data = testBylabel.get_group(label)\n",
    "    # get the features for the label\n",
    "    Features = Data[pixelsNumbers]\n",
    "    # get the labels for the label\n",
    "    Labels = Data['label']\n",
    "    # get the predictions for the label\n",
    "    Predictions = predictBatch(Features.values)\n",
    "    # calculate the accuracy for the label\n",
    "    accuracy = np.mean(Predictions == Labels)\n",
    "    # append the accuracy to the list\n",
    "    accuracyPerLabel.append(accuracy)"
   ]
  },
  {
   "cell_type": "code",
   "execution_count": 34,
   "metadata": {},
   "outputs": [
    {
     "name": "stdout",
     "output_type": "stream",
     "text": [
      "Accuracy for label A: 0.743787189359468\n",
      "Accuracy for label B: 0.7579988365328679\n",
      "Accuracy for label C: 0.7194816053511706\n",
      "Accuracy for label D: 0.7111111111111111\n",
      "Accuracy for label E: 0.5910267471958585\n",
      "Accuracy for label F: 0.9009009009009009\n",
      "Accuracy for label G: 0.7399103139013453\n",
      "Accuracy for label H: 0.5487035739313244\n",
      "Accuracy for label I: 0.8834080717488789\n",
      "Accuracy for label J: 0.6253794778384942\n",
      "Accuracy for label K: 0.6987740805604203\n",
      "Accuracy for label L: 0.7154830172033525\n",
      "Accuracy for label M: 0.8813213703099511\n",
      "Accuracy for label N: 0.6182432432432432\n",
      "Accuracy for label O: 0.7675041008374341\n",
      "Accuracy for label P: 0.7305373525557012\n",
      "Accuracy for label Q: 0.7278969957081545\n",
      "Accuracy for label R: 0.5070175438596491\n",
      "Accuracy for label S: 0.6723029045643154\n",
      "Accuracy for label T: 0.6901501766784452\n",
      "Accuracy for label U: 0.6332535066712282\n",
      "Accuracy for label V: 0.85\n",
      "Accuracy for label W: 0.7782952957615277\n",
      "Accuracy for label X: 0.6907946498819827\n",
      "Accuracy for label Y: 0.6974907063197026\n",
      "Accuracy for label Z: 0.6140350877192983\n"
     ]
    }
   ],
   "source": [
    "for label in range(26):\n",
    "    print('Accuracy for label {}: {}'.format(chr(label + 65), accuracyPerLabel[label]))"
   ]
  },
  {
   "cell_type": "code",
   "execution_count": 35,
   "metadata": {},
   "outputs": [
    {
     "data": {
      "image/png": "[encoded data removed]",
      "text/plain": [
       "<Figure size 1080x360 with 1 Axes>"
      ]
     },
     "metadata": {},
     "output_type": "display_data"
    }
   ],
   "source": [
    "# lets plot the accuracies for each label\n",
    "sns.set(rc = {'figure.figsize':(15,5)} , font_scale = 1.1)\n",
    "sns.barplot(x=[chr(i+65) for i in range(26)], y=accuracyPerLabel)\n",
    "plt.title('Accuracy for each label')\n",
    "# write values over the bars\n",
    "for i, v in enumerate(accuracyPerLabel):\n",
    "    plt.text(i, v, '{:.2f}'.format(v), color='black', ha='center', va='bottom')\n",
    "plt.show()"
   ]
  },
  {
   "cell_type": "markdown",
   "metadata": {},
   "source": [
    "### Confusion Matrix\n",
    "Confusion matrix is a table that shows the number of correct and incorrect predictions made by the model. They gave us better understanding of the performance of the model.\n"
   ]
  },
  {
   "cell_type": "code",
   "execution_count": 36,
   "metadata": {},
   "outputs": [],
   "source": [
    "# creating a confusion matrix\n",
    "def createConfusionMatrix(model = ourModel, testPredictions = testPredictions, testLabels = testLabels.values):\n",
    "    \"\"\"\n",
    "    This function creates a confusion matrix for the model.\n",
    "\n",
    "    Params:\n",
    "        model (dict): The model\n",
    "        testPredictions (numpy.array): The predictions\n",
    "        testLabels (numpy.array): The labels\n",
    "    Returns:\n",
    "        numpy.array: The confusion matrix\n",
    "    \"\"\"\n",
    "    # create an empty matrix\n",
    "    confusionMatrix = np.zeros((26, 26))\n",
    "    # iterate over the predictions and labels\n",
    "    for i in range(len(testPredictions)):\n",
    "        # get the predicted label\n",
    "        predictedLabel = testPredictions[i]\n",
    "        # get the actual label\n",
    "        actualLabel = testLabels[i]\n",
    "        # increment the confusion matrix\n",
    "        confusionMatrix[predictedLabel][actualLabel] += 1\n",
    "    return confusionMatrix"
   ]
  },
  {
   "cell_type": "code",
   "execution_count": 37,
   "metadata": {},
   "outputs": [
    {
     "data": {
      "image/png": "[encoded data removed]",
      "text/plain": [
       "<Figure size 720x720 with 2 Axes>"
      ]
     },
     "metadata": {},
     "output_type": "display_data"
    }
   ],
   "source": [
    "confusionMatrix  = createConfusionMatrix()\n",
    "# plot the confusion matrix as a heat map\n",
    "plt.figure(figsize=(10, 10))\n",
    "sns.heatmap(confusionMatrix, cmap='Blues', xticklabels=[chr(i+65) for i in range(26)], yticklabels=[chr(i+65) for i in range(26)])\n",
    "plt.xlabel('Actual Label')\n",
    "plt.ylabel('Predicted Label')\n",
    "plt.title('Confusion Matrix')\n",
    "plt.show()"
   ]
  },
  {
   "cell_type": "code",
   "execution_count": 38,
   "metadata": {},
   "outputs": [
    {
     "data": {
      "image/png": "[encoded data removed]",
      "text/plain": [
       "<Figure size 720x720 with 2 Axes>"
      ]
     },
     "metadata": {},
     "output_type": "display_data"
    }
   ],
   "source": [
    "# plot the confusion matrix as a heat map by ignoring the diagonal\n",
    "# this will make other values more prominent and visible\n",
    "diagonalRemovedConfusionMatrix = np.zeros((26, 26))\n",
    "for i in range(26):\n",
    "    for j in range(26):\n",
    "        if i != j:\n",
    "            diagonalRemovedConfusionMatrix[i][j] = confusionMatrix[i][j]\n",
    "        \n",
    "\n",
    "plt.figure(figsize=(10, 10))\n",
    "sns.heatmap(diagonalRemovedConfusionMatrix, cmap='Blues', xticklabels=[chr(i+65) for i in range(26)], yticklabels=[chr(i+65) for i in range(26)], linecolor='teal',linewidths=0.5)\n",
    "plt.xlabel('Actual Label')\n",
    "plt.ylabel('Predicted Label')\n",
    "plt.title('Diagonal Removed Confusion Matrix')\n",
    "\n",
    "# show boundaries\n",
    "plt.show()"
   ]
  },
  {
   "cell_type": "markdown",
   "metadata": {},
   "source": [
    "We can use the above matrix to see which letters are more wrongly predicted as which other letter. As here we can see S is wrongly predicted as J lots of times etc."
   ]
  },
  {
   "cell_type": "markdown",
   "metadata": {},
   "source": [
    "### Classification Report\n",
    "https://medium.com/@kohlishivam5522/understanding-a-classification-report-for-your-machine-learning-model-88815e2ce397\n",
    "\n",
    "classification report is a table that shows the precision, recall, f1-score and support for each class. This is more useful when we have more than two classes and the distribution of the classes is not balanced.\n",
    "\n",
    "We can calulate classification report for confusion matrix.\n",
    "\n",
    "For a binary class precision is the fraction of correct predictions made by the model with total . It is calculated as: \n",
    "\\begin{equation}\n",
    "Precision = \\frac{TP}{TP+FP}\n",
    "\\end{equation}\n",
    "\n",
    "Similarly Recall is calculated as:\n",
    "\\begin{equation}\n",
    "Recall = \\frac{TP}{TP+FN}\n",
    "\\end{equation}\n",
    "\n",
    "F1 score is calculated as:\n",
    "\\begin{equation}\n",
    "F1 score = 2\\frac{Precision * Recall}{Precision+Recall}\n",
    "\\end{equation}\n",
    "\n",
    "We  can extend this to more than two classes as well."
   ]
  },
  {
   "cell_type": "code",
   "execution_count": 39,
   "metadata": {},
   "outputs": [],
   "source": [
    "# calculating classification report for the confusion matrix for each label\n",
    "def calculateClassificationReport(confusionMatrix = confusionMatrix):\n",
    "    \"\"\"\n",
    "    This function calculates the classification report for the confusion matrix.\n",
    "\n",
    "    Params:\n",
    "        confusionMatrix (numpy.array): The confusion matrix\n",
    "    Returns:\n",
    "        dict: The classification report\n",
    "    \"\"\"\n",
    "    # create an empty list\n",
    "    result = []\n",
    "    # iterate over the confusion matrix\n",
    "    for label in range(26):\n",
    "        # caculating precision\n",
    "        precision = confusionMatrix[label][label] / np.sum(confusionMatrix[label])\n",
    "        # caculating recall\n",
    "        recall = confusionMatrix[label][label] / np.sum(confusionMatrix[:, label])\n",
    "        # caculating f1 score\n",
    "        f1Score = 2 * (precision * recall) / (precision + recall)\n",
    "        result.append([chr(label + 65), precision, recall, f1Score])\n",
    "    return result\n"
   ]
  },
  {
   "cell_type": "code",
   "execution_count": 40,
   "metadata": {},
   "outputs": [
    {
     "data": {
      "image/png": "[encoded data removed]",
      "text/plain": [
       "<Figure size 720x720 with 3 Axes>"
      ]
     },
     "metadata": {},
     "output_type": "display_data"
    }
   ],
   "source": [
    "classificationReport = calculateClassificationReport()\n",
    "\n",
    "# plot the classification precision recall and f1 barplots for each label in single plot as subplots\n",
    "figure = plt.figure(figsize=(10, 10))\n",
    "# plot precision subplot\n",
    "plt.subplot(3, 1, 1)\n",
    "sns.barplot(x=[chr(i+65) for i in range(26)], y=[row[1] for row in classificationReport])\n",
    "plt.xlabel('Labels')\n",
    "plt.ylabel('Precision')\n",
    "plt.title('Precision')\n",
    "# plot recall subplot\n",
    "plt.subplot(3, 1, 2)\n",
    "sns.barplot(x=[chr(i+65) for i in range(26)], y=[row[2] for row in classificationReport])\n",
    "plt.xlabel('Labels')\n",
    "plt.ylabel('Recall')\n",
    "plt.title('Recall')\n",
    "# plot f1 score subplot\n",
    "plt.subplot(3, 1, 3)\n",
    "sns.barplot(x=[chr(i+65) for i in range(26)], y=[row[3] for row in classificationReport])\n",
    "plt.xlabel('Labels')\n",
    "plt.ylabel('F1 Score')\n",
    "plt.title('F1 Score')\n",
    "plt.tight_layout()\n",
    "plt.show()"
   ]
  },
  {
   "cell_type": "markdown",
   "metadata": {},
   "source": [
    "## Improving the accuracy of the model\n",
    "Accuracy machine learning model can be improved in various ways, like by using more data or by using more features. If more data is not availble we can use other methods like data augmentation.\n",
    "\n",
    "We can also tune the hyperparameters of the model to improve the accuracies. \n",
    "\n",
    "### Tuning the hyperparameters\n",
    "If we fix the model then we are left here with only one hyperparameter to tune, which is the threshold value we used to convert the pixels to black or white. We took it as 50% by default but we try to tune it to see if we can improve the accuracies."
   ]
  },
  {
   "cell_type": "code",
   "execution_count": 41,
   "metadata": {},
   "outputs": [],
   "source": [
    "# creating a dataframe for images using different threshold values\n",
    "thresholds = [0.1, 0.2, 0.3, 0.4, 0.5, 0.6, 0.7, 0.8, 0.9]\n",
    "df = df_copy.copy()"
   ]
  },
  {
   "cell_type": "code",
   "execution_count": 42,
   "metadata": {},
   "outputs": [],
   "source": [
    "def transformData(df, threshold, maxVal = 255):\n",
    "    newDf = df.copy()\n",
    "    threshold = threshold * maxVal\n",
    "    newDf[pixelsNumbers] = newDf[pixelsNumbers].apply(lambda x: (x > threshold).astype(int))\n",
    "    return newDf"
   ]
  },
  {
   "cell_type": "code",
   "execution_count": 43,
   "metadata": {},
   "outputs": [],
   "source": [
    "dfList = []\n",
    "for threshold in thresholds:\n",
    "    dfList.append(transformData(df, threshold))"
   ]
  },
  {
   "cell_type": "code",
   "execution_count": 44,
   "metadata": {},
   "outputs": [
    {
     "name": "stdout",
     "output_type": "stream",
     "text": [
      "9\n",
      "(372450, 785)\n"
     ]
    }
   ],
   "source": [
    "print(len(dfList))\n",
    "print(dfList[0].shape)"
   ]
  },
  {
   "cell_type": "markdown",
   "metadata": {},
   "source": [
    "Lets see some images from each threshold value."
   ]
  },
  {
   "cell_type": "code",
   "execution_count": 45,
   "metadata": {},
   "outputs": [
    {
     "data": {
      "image/png": "[encoded data removed]",
      "text/plain": [
       "<Figure size 1080x1080 with 27 Axes>"
      ]
     },
     "metadata": {},
     "output_type": "display_data"
    }
   ],
   "source": [
    "# select some random index\n",
    "# select 3 random images\n",
    "rind = np.random.randint(0, dfList[0].shape[0], 3)\n",
    "\n",
    "# plot the images for each threshold\n",
    "figure , axis = plt.subplots(3, 9, figsize=(15, 15))\n",
    "for th in range(len(thresholds)):\n",
    "    curDf = dfList[th]\n",
    "    for i in range(3):\n",
    "        axis[i][th].imshow(curDf.iloc[rind[i]][pixelsNumbers].values.reshape(28, 28), cmap='gray')\n",
    "        axis[i][th].set_title('Threshold: {}'.format(thresholds[th]))\n",
    "        axis[i][th].axis('off')"
   ]
  },
  {
   "cell_type": "markdown",
   "metadata": {},
   "source": [
    "Now lets create train and score model with different threshold values and compare their accuracies."
   ]
  },
  {
   "cell_type": "code",
   "execution_count": 47,
   "metadata": {},
   "outputs": [
    {
     "name": "stdout",
     "output_type": "stream",
     "text": [
      "Calculating accuracy for threshold: 0.1\n",
      "Calculating accuracy for threshold: 0.2\n",
      "Calculating accuracy for threshold: 0.3\n",
      "Calculating accuracy for threshold: 0.4\n",
      "Calculating accuracy for threshold: 0.5\n",
      "Calculating accuracy for threshold: 0.6\n",
      "Calculating accuracy for threshold: 0.7\n",
      "Calculating accuracy for threshold: 0.8\n",
      "Calculating accuracy for threshold: 0.9\n"
     ]
    }
   ],
   "source": [
    "# can take longf time to run around 10 minutes\n",
    "scores = []\n",
    "itr = 0\n",
    "for df in dfList:\n",
    "    print('Calculating accuracy for threshold: {}'.format(thresholds[itr]))\n",
    "    itr+=1\n",
    "    # partision the data into train and test\n",
    "    train, test = train_test_split(df, test_size=0.2)\n",
    "    # get the features for the train data\n",
    "    X_train = train[pixelsNumbers]\n",
    "    # get the labels for the train data\n",
    "    y_train = train['label']\n",
    "    # get the features for the test data\n",
    "    X_test = test[pixelsNumbers]\n",
    "    # get the labels for the test data\n",
    "    y_test = test['label']\n",
    "\n",
    "    # create a model\n",
    "    m = nb.CategoricalNB(fit_prior=True, min_categories=2)\n",
    "    # fit the model\n",
    "    m.fit(X_train, y_train)\n",
    "    # score the model\n",
    "    score = m.score(X_test, y_test)\n",
    "    scores.append(score)"
   ]
  },
  {
   "cell_type": "code",
   "execution_count": 48,
   "metadata": {},
   "outputs": [
    {
     "data": {
      "image/png": "[encoded data removed]",
      "text/plain": [
       "<Figure size 720x576 with 1 Axes>"
      ]
     },
     "metadata": {},
     "output_type": "display_data"
    },
    {
     "name": "stdout",
     "output_type": "stream",
     "text": [
      "Best Threshold: 0.3, Score : 0.7099476439790576\n"
     ]
    }
   ],
   "source": [
    "# visializing the scores for different threshold values\n",
    "plt.figure(figsize=(10, 8))\n",
    "plt.plot(thresholds, scores)\n",
    "plt.xlabel('Threshold')\n",
    "plt.ylabel('Score')\n",
    "plt.title('Threshold vs Score')\n",
    "plt.show()\n",
    "\n",
    "# mark the best threshold value\n",
    "bestThreshold = thresholds[np.argmax(scores)]\n",
    "print('Best Threshold: {}, Score : {}'.format(bestThreshold, np.max(scores)))"
   ]
  },
  {
   "cell_type": "markdown",
   "metadata": {},
   "source": [
    "### More possible values for features\n",
    "Till now we have used a binary values for features, but we can also use more than two values. For example, we can use a 3-value feature for each pixel. We can say that from 0 to 33% of the pixel is 0 i.e. complete black, 33% to 66% is grayish i.e 1 and 66% to 100% is white i.e. 2.\n",
    "\n",
    "Also this selection of equal distribution of values is also a hyperparameter but we wont consider it here.\n",
    "\n",
    "Lets first partision the data base on this principle.\n"
   ]
  },
  {
   "cell_type": "code",
   "execution_count": 49,
   "metadata": {},
   "outputs": [
    {
     "data": {
      "text/html": [
       "<div>\n",
       "<style scoped>\n",
       "    .dataframe tbody tr th:only-of-type {\n",
       "        vertical-align: middle;\n",
       "    }\n",
       "\n",
       "    .dataframe tbody tr th {\n",
       "        vertical-align: top;\n",
       "    }\n",
       "\n",
       "    .dataframe thead th {\n",
       "        text-align: right;\n",
       "    }\n",
       "</style>\n",
       "<table border=\"1\" class=\"dataframe\">\n",
       "  <thead>\n",
       "    <tr style=\"text-align: right;\">\n",
       "      <th></th>\n",
       "      <th>label</th>\n",
       "      <th>pixel0</th>\n",
       "      <th>pixel1</th>\n",
       "      <th>pixel2</th>\n",
       "      <th>pixel3</th>\n",
       "      <th>pixel4</th>\n",
       "      <th>pixel5</th>\n",
       "      <th>pixel6</th>\n",
       "      <th>pixel7</th>\n",
       "      <th>pixel8</th>\n",
       "      <th>...</th>\n",
       "      <th>pixel774</th>\n",
       "      <th>pixel775</th>\n",
       "      <th>pixel776</th>\n",
       "      <th>pixel777</th>\n",
       "      <th>pixel778</th>\n",
       "      <th>pixel779</th>\n",
       "      <th>pixel780</th>\n",
       "      <th>pixel781</th>\n",
       "      <th>pixel782</th>\n",
       "      <th>pixel783</th>\n",
       "    </tr>\n",
       "  </thead>\n",
       "  <tbody>\n",
       "    <tr>\n",
       "      <th>0</th>\n",
       "      <td>0</td>\n",
       "      <td>0</td>\n",
       "      <td>0</td>\n",
       "      <td>0</td>\n",
       "      <td>0</td>\n",
       "      <td>0</td>\n",
       "      <td>0</td>\n",
       "      <td>0</td>\n",
       "      <td>0</td>\n",
       "      <td>0</td>\n",
       "      <td>...</td>\n",
       "      <td>0</td>\n",
       "      <td>0</td>\n",
       "      <td>0</td>\n",
       "      <td>0</td>\n",
       "      <td>0</td>\n",
       "      <td>0</td>\n",
       "      <td>0</td>\n",
       "      <td>0</td>\n",
       "      <td>0</td>\n",
       "      <td>0</td>\n",
       "    </tr>\n",
       "    <tr>\n",
       "      <th>1</th>\n",
       "      <td>0</td>\n",
       "      <td>0</td>\n",
       "      <td>0</td>\n",
       "      <td>0</td>\n",
       "      <td>0</td>\n",
       "      <td>0</td>\n",
       "      <td>0</td>\n",
       "      <td>0</td>\n",
       "      <td>0</td>\n",
       "      <td>0</td>\n",
       "      <td>...</td>\n",
       "      <td>0</td>\n",
       "      <td>0</td>\n",
       "      <td>0</td>\n",
       "      <td>0</td>\n",
       "      <td>0</td>\n",
       "      <td>0</td>\n",
       "      <td>0</td>\n",
       "      <td>0</td>\n",
       "      <td>0</td>\n",
       "      <td>0</td>\n",
       "    </tr>\n",
       "    <tr>\n",
       "      <th>2</th>\n",
       "      <td>0</td>\n",
       "      <td>0</td>\n",
       "      <td>0</td>\n",
       "      <td>0</td>\n",
       "      <td>0</td>\n",
       "      <td>0</td>\n",
       "      <td>0</td>\n",
       "      <td>0</td>\n",
       "      <td>0</td>\n",
       "      <td>0</td>\n",
       "      <td>...</td>\n",
       "      <td>0</td>\n",
       "      <td>0</td>\n",
       "      <td>0</td>\n",
       "      <td>0</td>\n",
       "      <td>0</td>\n",
       "      <td>0</td>\n",
       "      <td>0</td>\n",
       "      <td>0</td>\n",
       "      <td>0</td>\n",
       "      <td>0</td>\n",
       "    </tr>\n",
       "    <tr>\n",
       "      <th>3</th>\n",
       "      <td>0</td>\n",
       "      <td>0</td>\n",
       "      <td>0</td>\n",
       "      <td>0</td>\n",
       "      <td>0</td>\n",
       "      <td>0</td>\n",
       "      <td>0</td>\n",
       "      <td>0</td>\n",
       "      <td>0</td>\n",
       "      <td>0</td>\n",
       "      <td>...</td>\n",
       "      <td>0</td>\n",
       "      <td>0</td>\n",
       "      <td>0</td>\n",
       "      <td>0</td>\n",
       "      <td>0</td>\n",
       "      <td>0</td>\n",
       "      <td>0</td>\n",
       "      <td>0</td>\n",
       "      <td>0</td>\n",
       "      <td>0</td>\n",
       "    </tr>\n",
       "    <tr>\n",
       "      <th>4</th>\n",
       "      <td>0</td>\n",
       "      <td>0</td>\n",
       "      <td>0</td>\n",
       "      <td>0</td>\n",
       "      <td>0</td>\n",
       "      <td>0</td>\n",
       "      <td>0</td>\n",
       "      <td>0</td>\n",
       "      <td>0</td>\n",
       "      <td>0</td>\n",
       "      <td>...</td>\n",
       "      <td>0</td>\n",
       "      <td>0</td>\n",
       "      <td>0</td>\n",
       "      <td>0</td>\n",
       "      <td>0</td>\n",
       "      <td>0</td>\n",
       "      <td>0</td>\n",
       "      <td>0</td>\n",
       "      <td>0</td>\n",
       "      <td>0</td>\n",
       "    </tr>\n",
       "  </tbody>\n",
       "</table>\n",
       "<p>5 rows × 785 columns</p>\n",
       "</div>"
      ],
      "text/plain": [
       "   label  pixel0  pixel1  pixel2  pixel3  pixel4  pixel5  pixel6  pixel7  \\\n",
       "0      0       0       0       0       0       0       0       0       0   \n",
       "1      0       0       0       0       0       0       0       0       0   \n",
       "2      0       0       0       0       0       0       0       0       0   \n",
       "3      0       0       0       0       0       0       0       0       0   \n",
       "4      0       0       0       0       0       0       0       0       0   \n",
       "\n",
       "   pixel8  ...  pixel774  pixel775  pixel776  pixel777  pixel778  pixel779  \\\n",
       "0       0  ...         0         0         0         0         0         0   \n",
       "1       0  ...         0         0         0         0         0         0   \n",
       "2       0  ...         0         0         0         0         0         0   \n",
       "3       0  ...         0         0         0         0         0         0   \n",
       "4       0  ...         0         0         0         0         0         0   \n",
       "\n",
       "   pixel780  pixel781  pixel782  pixel783  \n",
       "0         0         0         0         0  \n",
       "1         0         0         0         0  \n",
       "2         0         0         0         0  \n",
       "3         0         0         0         0  \n",
       "4         0         0         0         0  \n",
       "\n",
       "[5 rows x 785 columns]"
      ]
     },
     "execution_count": 49,
     "metadata": {},
     "output_type": "execute_result"
    }
   ],
   "source": [
    "df = df_copy.copy()\n",
    "\n",
    "# discretise the data 0 for < 33% 1 for < 66% and 2 for rest\n",
    "p1 = 255 * 0.33\n",
    "p2 = 255 * 0.66\n",
    "df[pixelsNumbers] = df[pixelsNumbers].apply(lambda x : (x > p1).astype(int) + (x > p2).astype(int))\n",
    "df.head()\n",
    "\n"
   ]
  },
  {
   "cell_type": "code",
   "execution_count": 50,
   "metadata": {},
   "outputs": [],
   "source": [
    "# partision the data into train and test\n",
    "train, test = train_test_split(df, test_size=0.2)"
   ]
  },
  {
   "cell_type": "code",
   "execution_count": 51,
   "metadata": {},
   "outputs": [
    {
     "data": {
      "text/plain": [
       "CategoricalNB(min_categories=3)"
      ]
     },
     "execution_count": 51,
     "metadata": {},
     "output_type": "execute_result"
    }
   ],
   "source": [
    "# create the model\n",
    "m = nb.CategoricalNB(fit_prior=True, min_categories=3)\n",
    "\n",
    "# fit the model\n",
    "m.fit(train[pixelsNumbers], train['label'])"
   ]
  },
  {
   "cell_type": "code",
   "execution_count": 52,
   "metadata": {},
   "outputs": [
    {
     "name": "stdout",
     "output_type": "stream",
     "text": [
      "Score: 0.7092764129413344\n"
     ]
    }
   ],
   "source": [
    "# score the model\n",
    "score = m.score(test[pixelsNumbers], test['label'])\n",
    "print('Score: {}'.format(score))\n"
   ]
  },
  {
   "cell_type": "markdown",
   "metadata": {},
   "source": [
    "As we can see accuracy did increase by a bit, now just out of curiousity lets try more possible values for features. Lets say 10 possible values for each pixel."
   ]
  },
  {
   "cell_type": "code",
   "execution_count": 53,
   "metadata": {},
   "outputs": [
    {
     "data": {
      "text/html": [
       "<div>\n",
       "<style scoped>\n",
       "    .dataframe tbody tr th:only-of-type {\n",
       "        vertical-align: middle;\n",
       "    }\n",
       "\n",
       "    .dataframe tbody tr th {\n",
       "        vertical-align: top;\n",
       "    }\n",
       "\n",
       "    .dataframe thead th {\n",
       "        text-align: right;\n",
       "    }\n",
       "</style>\n",
       "<table border=\"1\" class=\"dataframe\">\n",
       "  <thead>\n",
       "    <tr style=\"text-align: right;\">\n",
       "      <th></th>\n",
       "      <th>label</th>\n",
       "      <th>pixel0</th>\n",
       "      <th>pixel1</th>\n",
       "      <th>pixel2</th>\n",
       "      <th>pixel3</th>\n",
       "      <th>pixel4</th>\n",
       "      <th>pixel5</th>\n",
       "      <th>pixel6</th>\n",
       "      <th>pixel7</th>\n",
       "      <th>pixel8</th>\n",
       "      <th>...</th>\n",
       "      <th>pixel774</th>\n",
       "      <th>pixel775</th>\n",
       "      <th>pixel776</th>\n",
       "      <th>pixel777</th>\n",
       "      <th>pixel778</th>\n",
       "      <th>pixel779</th>\n",
       "      <th>pixel780</th>\n",
       "      <th>pixel781</th>\n",
       "      <th>pixel782</th>\n",
       "      <th>pixel783</th>\n",
       "    </tr>\n",
       "  </thead>\n",
       "  <tbody>\n",
       "    <tr>\n",
       "      <th>0</th>\n",
       "      <td>0</td>\n",
       "      <td>0</td>\n",
       "      <td>0</td>\n",
       "      <td>0</td>\n",
       "      <td>0</td>\n",
       "      <td>0</td>\n",
       "      <td>0</td>\n",
       "      <td>0</td>\n",
       "      <td>0</td>\n",
       "      <td>0</td>\n",
       "      <td>...</td>\n",
       "      <td>0</td>\n",
       "      <td>0</td>\n",
       "      <td>0</td>\n",
       "      <td>0</td>\n",
       "      <td>0</td>\n",
       "      <td>0</td>\n",
       "      <td>0</td>\n",
       "      <td>0</td>\n",
       "      <td>0</td>\n",
       "      <td>0</td>\n",
       "    </tr>\n",
       "    <tr>\n",
       "      <th>1</th>\n",
       "      <td>0</td>\n",
       "      <td>0</td>\n",
       "      <td>0</td>\n",
       "      <td>0</td>\n",
       "      <td>0</td>\n",
       "      <td>0</td>\n",
       "      <td>0</td>\n",
       "      <td>0</td>\n",
       "      <td>0</td>\n",
       "      <td>0</td>\n",
       "      <td>...</td>\n",
       "      <td>0</td>\n",
       "      <td>0</td>\n",
       "      <td>0</td>\n",
       "      <td>0</td>\n",
       "      <td>0</td>\n",
       "      <td>0</td>\n",
       "      <td>0</td>\n",
       "      <td>0</td>\n",
       "      <td>0</td>\n",
       "      <td>0</td>\n",
       "    </tr>\n",
       "    <tr>\n",
       "      <th>2</th>\n",
       "      <td>0</td>\n",
       "      <td>0</td>\n",
       "      <td>0</td>\n",
       "      <td>0</td>\n",
       "      <td>0</td>\n",
       "      <td>0</td>\n",
       "      <td>0</td>\n",
       "      <td>0</td>\n",
       "      <td>0</td>\n",
       "      <td>0</td>\n",
       "      <td>...</td>\n",
       "      <td>0</td>\n",
       "      <td>0</td>\n",
       "      <td>0</td>\n",
       "      <td>0</td>\n",
       "      <td>0</td>\n",
       "      <td>0</td>\n",
       "      <td>0</td>\n",
       "      <td>0</td>\n",
       "      <td>0</td>\n",
       "      <td>0</td>\n",
       "    </tr>\n",
       "    <tr>\n",
       "      <th>3</th>\n",
       "      <td>0</td>\n",
       "      <td>0</td>\n",
       "      <td>0</td>\n",
       "      <td>0</td>\n",
       "      <td>0</td>\n",
       "      <td>0</td>\n",
       "      <td>0</td>\n",
       "      <td>0</td>\n",
       "      <td>0</td>\n",
       "      <td>0</td>\n",
       "      <td>...</td>\n",
       "      <td>0</td>\n",
       "      <td>0</td>\n",
       "      <td>0</td>\n",
       "      <td>0</td>\n",
       "      <td>0</td>\n",
       "      <td>0</td>\n",
       "      <td>0</td>\n",
       "      <td>0</td>\n",
       "      <td>0</td>\n",
       "      <td>0</td>\n",
       "    </tr>\n",
       "    <tr>\n",
       "      <th>4</th>\n",
       "      <td>0</td>\n",
       "      <td>0</td>\n",
       "      <td>0</td>\n",
       "      <td>0</td>\n",
       "      <td>0</td>\n",
       "      <td>0</td>\n",
       "      <td>0</td>\n",
       "      <td>0</td>\n",
       "      <td>0</td>\n",
       "      <td>0</td>\n",
       "      <td>...</td>\n",
       "      <td>0</td>\n",
       "      <td>0</td>\n",
       "      <td>0</td>\n",
       "      <td>0</td>\n",
       "      <td>0</td>\n",
       "      <td>0</td>\n",
       "      <td>0</td>\n",
       "      <td>0</td>\n",
       "      <td>0</td>\n",
       "      <td>0</td>\n",
       "    </tr>\n",
       "  </tbody>\n",
       "</table>\n",
       "<p>5 rows × 785 columns</p>\n",
       "</div>"
      ],
      "text/plain": [
       "   label  pixel0  pixel1  pixel2  pixel3  pixel4  pixel5  pixel6  pixel7  \\\n",
       "0      0       0       0       0       0       0       0       0       0   \n",
       "1      0       0       0       0       0       0       0       0       0   \n",
       "2      0       0       0       0       0       0       0       0       0   \n",
       "3      0       0       0       0       0       0       0       0       0   \n",
       "4      0       0       0       0       0       0       0       0       0   \n",
       "\n",
       "   pixel8  ...  pixel774  pixel775  pixel776  pixel777  pixel778  pixel779  \\\n",
       "0       0  ...         0         0         0         0         0         0   \n",
       "1       0  ...         0         0         0         0         0         0   \n",
       "2       0  ...         0         0         0         0         0         0   \n",
       "3       0  ...         0         0         0         0         0         0   \n",
       "4       0  ...         0         0         0         0         0         0   \n",
       "\n",
       "   pixel780  pixel781  pixel782  pixel783  \n",
       "0         0         0         0         0  \n",
       "1         0         0         0         0  \n",
       "2         0         0         0         0  \n",
       "3         0         0         0         0  \n",
       "4         0         0         0         0  \n",
       "\n",
       "[5 rows x 785 columns]"
      ]
     },
     "execution_count": 53,
     "metadata": {},
     "output_type": "execute_result"
    }
   ],
   "source": [
    "df = df_copy.copy()\n",
    "ps = [0.1, 0.2, 0.3, 0.4, 0.5, 0.6, 0.7, 0.8, 0.9]\n",
    "\n",
    "# discretise the data from 0 to 9\n",
    "df[pixelsNumbers] = df[pixelsNumbers].apply(lambda x : (x > 255 * 0.1).astype(int) + (x > 255 * 0.2).astype(int) + (x > 255 * 0.3).astype(int) + (x > 255 * 0.4).astype(int) + (x > 255 * 0.5).astype(int) + (x > 255 * 0.6).astype(int) + (x > 255 * 0.7).astype(int) + (x > 255 * 0.8).astype(int) + (x > 255 * 0.9).astype(int))\n",
    "df.head()"
   ]
  },
  {
   "cell_type": "code",
   "execution_count": 54,
   "metadata": {},
   "outputs": [
    {
     "data": {
      "text/plain": [
       "CategoricalNB(min_categories=10)"
      ]
     },
     "execution_count": 54,
     "metadata": {},
     "output_type": "execute_result"
    }
   ],
   "source": [
    "# create the model\n",
    "m = nb.CategoricalNB(fit_prior=True, min_categories=10)\n",
    "\n",
    "# partision the data into train and test\n",
    "train, test = train_test_split(df, test_size=0.2)\n",
    "\n",
    "# fit the model\n",
    "m.fit(train[pixelsNumbers], train['label'])\n"
   ]
  },
  {
   "cell_type": "code",
   "execution_count": 55,
   "metadata": {},
   "outputs": [
    {
     "name": "stdout",
     "output_type": "stream",
     "text": [
      "Score: 0.717196939186468\n"
     ]
    }
   ],
   "source": [
    "# score the model\n",
    "score = m.score(test[pixelsNumbers], test['label'])\n",
    "print('Score: {}'.format(score))"
   ]
  },
  {
   "cell_type": "markdown",
   "metadata": {},
   "source": [
    "## Conclusion\n",
    "We have seen how to use the model to predict the labels of the test set. We have also seen how to calculate the error metrics for the whole test set. We have also seen how to calculate the error metrics for each label. We have also seen how to calculate the confusion matrix. We have also seen how to calculate the classification report.\n",
    "\n",
    "Bayesian classifier is a good model to use for this problem. It is a probabilistic model and it is very easy to use when features are less and possible values are less. But when features are more and possible values are more, it becomes hard to use.\n",
    "\n",
    "Naive Bayes approximation can be used when features are more, and in this problem it has come out to be effective. To implement it without Naive Bayes approximation the amount of data needed would have been practically impossible to get.\n",
    "\n",
    "We have seen that different threshold values can improve the accuracy of the model. But because in this particular case if we just kept the max value of the features as 1 and all ither as 0 most of the images still retain their identity, and were still human readable, so all threshold values gave very close accuracy.\n",
    "\n",
    "We also saw that adding more possible values for features can improve the accuracy of the model, but the effect was not very significant. This is not very ammusing as texts dont need levels of darkness to be represented. So just using black and white is enough."
   ]
  }
 ],
 "metadata": {
  "interpreter": {
   "hash": "f23730d148f0a90638581163a05f33fe279101ed952ab2055512a2b448ea1fdc"
  },
  "kernelspec": {
   "display_name": "Python 3",
   "language": "python",
   "name": "python3"
  },
  "language_info": {
   "codemirror_mode": {
    "name": "ipython",
    "version": 3
   },
   "file_extension": ".py",
   "mimetype": "text/x-python",
   "name": "python",
   "nbconvert_exporter": "python",
   "pygments_lexer": "ipython3",
   "version": "3.8.8"
  }
 },
 "nbformat": 4,
 "nbformat_minor": 2
}
